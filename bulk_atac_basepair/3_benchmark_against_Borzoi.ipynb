{
 "cells": [
  {
   "cell_type": "code",
   "execution_count": 1,
   "metadata": {},
   "outputs": [
    {
     "name": "stdout",
     "output_type": "stream",
     "text": [
      "The history saving thread hit an unexpected error (DatabaseError('database disk image is malformed')).History will not be written to the database.\n"
     ]
    }
   ],
   "source": [
    "import numpy as np\n",
    "import pandas as pd\n",
    "import torch\n",
    "import os"
   ]
  },
  {
   "cell_type": "code",
   "execution_count": null,
   "metadata": {},
   "outputs": [],
   "source": [
    "import grelu.resources"
   ]
  },
  {
   "cell_type": "code",
   "execution_count": 2,
   "metadata": {},
   "outputs": [
    {
     "name": "stderr",
     "output_type": "stream",
     "text": [
      "/cellar/users/aklie/opt/miniconda3/envs/eugene_tools/lib/python3.11/site-packages/tqdm/auto.py:21: TqdmWarning: IProgress not found. Please update jupyter and ipywidgets. See https://ipywidgets.readthedocs.io/en/stable/user_install.html\n",
      "  from .autonotebook import tqdm as notebook_tqdm\n",
      "\u001b[34m\u001b[1mwandb\u001b[0m: Using wandb-core as the SDK backend. Please refer to https://wandb.me/wandb-core for more information.\n",
      "\u001b[34m\u001b[1mwandb\u001b[0m: Currently logged in as: \u001b[33madamklie\u001b[0m (\u001b[33mcarter-comp-bio\u001b[0m). Use \u001b[1m`wandb login --relogin`\u001b[0m to force relogin\n",
      "\u001b[34m\u001b[1mwandb\u001b[0m: Downloading large artifact human_fold0:latest, 711.00MB. 1 files... \n",
      "\u001b[34m\u001b[1mwandb\u001b[0m:   1 of 1 files downloaded.  \n",
      "Done. 0:0:18.0\n"
     ]
    },
    {
     "data": {
      "text/plain": [
       "LightningModel(\n",
       "  (model): BorzoiModel(\n",
       "    (embedding): BorzoiTrunk(\n",
       "      (conv_tower): BorzoiConvTower(\n",
       "        (blocks): ModuleList(\n",
       "          (0): Stem(\n",
       "            (conv): Conv1d(4, 512, kernel_size=(15,), stride=(1,), padding=same)\n",
       "            (act): Activation(\n",
       "              (layer): Identity()\n",
       "            )\n",
       "            (pool): Pool(\n",
       "              (layer): MaxPool1d(kernel_size=2, stride=2, padding=0, dilation=1, ceil_mode=False)\n",
       "            )\n",
       "          )\n",
       "          (1): ConvBlock(\n",
       "            (norm): Norm(\n",
       "              (layer): BatchNorm1d(512, eps=1e-05, momentum=0.1, affine=True, track_running_stats=True)\n",
       "            )\n",
       "            (conv): Conv1d(512, 608, kernel_size=(5,), stride=(1,), padding=same)\n",
       "            (act): Activation(\n",
       "              (layer): GELU(approximate='none')\n",
       "            )\n",
       "            (pool): Pool(\n",
       "              (layer): MaxPool1d(kernel_size=2, stride=2, padding=0, dilation=1, ceil_mode=False)\n",
       "            )\n",
       "            (dropout): Dropout(\n",
       "              (layer): Identity()\n",
       "            )\n",
       "          )\n",
       "          (2): ConvBlock(\n",
       "            (norm): Norm(\n",
       "              (layer): BatchNorm1d(608, eps=1e-05, momentum=0.1, affine=True, track_running_stats=True)\n",
       "            )\n",
       "            (conv): Conv1d(608, 736, kernel_size=(5,), stride=(1,), padding=same)\n",
       "            (act): Activation(\n",
       "              (layer): GELU(approximate='none')\n",
       "            )\n",
       "            (pool): Pool(\n",
       "              (layer): MaxPool1d(kernel_size=2, stride=2, padding=0, dilation=1, ceil_mode=False)\n",
       "            )\n",
       "            (dropout): Dropout(\n",
       "              (layer): Identity()\n",
       "            )\n",
       "          )\n",
       "          (3): ConvBlock(\n",
       "            (norm): Norm(\n",
       "              (layer): BatchNorm1d(736, eps=1e-05, momentum=0.1, affine=True, track_running_stats=True)\n",
       "            )\n",
       "            (conv): Conv1d(736, 896, kernel_size=(5,), stride=(1,), padding=same)\n",
       "            (act): Activation(\n",
       "              (layer): GELU(approximate='none')\n",
       "            )\n",
       "            (pool): Pool(\n",
       "              (layer): MaxPool1d(kernel_size=2, stride=2, padding=0, dilation=1, ceil_mode=False)\n",
       "            )\n",
       "            (dropout): Dropout(\n",
       "              (layer): Identity()\n",
       "            )\n",
       "          )\n",
       "          (4): ConvBlock(\n",
       "            (norm): Norm(\n",
       "              (layer): BatchNorm1d(896, eps=1e-05, momentum=0.1, affine=True, track_running_stats=True)\n",
       "            )\n",
       "            (conv): Conv1d(896, 1056, kernel_size=(5,), stride=(1,), padding=same)\n",
       "            (act): Activation(\n",
       "              (layer): GELU(approximate='none')\n",
       "            )\n",
       "            (pool): Pool(\n",
       "              (layer): MaxPool1d(kernel_size=2, stride=2, padding=0, dilation=1, ceil_mode=False)\n",
       "            )\n",
       "            (dropout): Dropout(\n",
       "              (layer): Identity()\n",
       "            )\n",
       "          )\n",
       "          (5): ConvBlock(\n",
       "            (norm): Norm(\n",
       "              (layer): BatchNorm1d(1056, eps=1e-05, momentum=0.1, affine=True, track_running_stats=True)\n",
       "            )\n",
       "            (conv): Conv1d(1056, 1280, kernel_size=(5,), stride=(1,), padding=same)\n",
       "            (act): Activation(\n",
       "              (layer): GELU(approximate='none')\n",
       "            )\n",
       "            (pool): Pool(\n",
       "              (layer): MaxPool1d(kernel_size=2, stride=2, padding=0, dilation=1, ceil_mode=False)\n",
       "            )\n",
       "            (dropout): Dropout(\n",
       "              (layer): Identity()\n",
       "            )\n",
       "          )\n",
       "          (6): ConvBlock(\n",
       "            (norm): Norm(\n",
       "              (layer): BatchNorm1d(1280, eps=1e-05, momentum=0.1, affine=True, track_running_stats=True)\n",
       "            )\n",
       "            (conv): Conv1d(1280, 1536, kernel_size=(5,), stride=(1,), padding=same)\n",
       "            (act): Activation(\n",
       "              (layer): GELU(approximate='none')\n",
       "            )\n",
       "            (pool): Pool(\n",
       "              (layer): MaxPool1d(kernel_size=2, stride=2, padding=0, dilation=1, ceil_mode=False)\n",
       "            )\n",
       "            (dropout): Dropout(\n",
       "              (layer): Identity()\n",
       "            )\n",
       "          )\n",
       "        )\n",
       "      )\n",
       "      (transformer_tower): TransformerTower(\n",
       "        (blocks): ModuleList(\n",
       "          (0-7): 8 x TransformerBlock(\n",
       "            (norm): Norm(\n",
       "              (layer): LayerNorm((1536,), eps=1e-05, elementwise_affine=True)\n",
       "            )\n",
       "            (mha): Attention(\n",
       "              (to_q): Linear(in_features=1536, out_features=512, bias=False)\n",
       "              (to_k): Linear(in_features=1536, out_features=512, bias=False)\n",
       "              (to_v): Linear(in_features=1536, out_features=1536, bias=False)\n",
       "              (to_out): Linear(in_features=1536, out_features=1536, bias=True)\n",
       "              (to_pos_k): Linear(in_features=32, out_features=512, bias=False)\n",
       "              (pos_dropout): Dropout(p=0.0, inplace=False)\n",
       "              (attn_dropout): Dropout(p=0.0, inplace=False)\n",
       "            )\n",
       "            (dropout): Dropout(\n",
       "              (layer): Identity()\n",
       "            )\n",
       "            (ffn): FeedForwardBlock(\n",
       "              (dense1): LinearBlock(\n",
       "                (norm): Norm(\n",
       "                  (layer): LayerNorm((1536,), eps=1e-05, elementwise_affine=True)\n",
       "                )\n",
       "                (linear): Linear(in_features=1536, out_features=3072, bias=True)\n",
       "                (dropout): Dropout(\n",
       "                  (layer): Identity()\n",
       "                )\n",
       "                (act): Activation(\n",
       "                  (layer): ReLU()\n",
       "                )\n",
       "              )\n",
       "              (dense2): LinearBlock(\n",
       "                (norm): Norm(\n",
       "                  (layer): Identity()\n",
       "                )\n",
       "                (linear): Linear(in_features=3072, out_features=1536, bias=True)\n",
       "                (dropout): Dropout(\n",
       "                  (layer): Identity()\n",
       "                )\n",
       "                (act): Activation(\n",
       "                  (layer): Identity()\n",
       "                )\n",
       "              )\n",
       "            )\n",
       "          )\n",
       "        )\n",
       "      )\n",
       "      (unet_tower): UnetTower(\n",
       "        (blocks): ModuleList(\n",
       "          (0): UnetBlock(\n",
       "            (conv): ConvBlock(\n",
       "              (norm): Norm(\n",
       "                (layer): BatchNorm1d(1536, eps=1e-05, momentum=0.1, affine=True, track_running_stats=True)\n",
       "              )\n",
       "              (conv): Conv1d(1536, 1536, kernel_size=(1,), stride=(1,), padding=same)\n",
       "              (act): Activation(\n",
       "                (layer): GELU(approximate='none')\n",
       "              )\n",
       "              (pool): Pool(\n",
       "                (layer): Identity()\n",
       "              )\n",
       "              (dropout): Dropout(\n",
       "                (layer): Identity()\n",
       "              )\n",
       "            )\n",
       "            (upsample): Upsample(scale_factor=2.0, mode='nearest')\n",
       "            (channel_transform): ChannelTransformBlock(\n",
       "              (norm): Norm(\n",
       "                (layer): BatchNorm1d(1536, eps=1e-05, momentum=0.1, affine=True, track_running_stats=True)\n",
       "              )\n",
       "              (conv): ChannelTransform(\n",
       "                (layer): Conv1d(1536, 1536, kernel_size=(1,), stride=(1,), padding=same)\n",
       "              )\n",
       "              (act): Activation(\n",
       "                (layer): GELU(approximate='none')\n",
       "              )\n",
       "              (dropout): Dropout(\n",
       "                (layer): Identity()\n",
       "              )\n",
       "            )\n",
       "            (sconv): SeparableConv(\n",
       "              (depthwise): Conv1d(1536, 1536, kernel_size=(3,), stride=(1,), padding=same, groups=1536, bias=False)\n",
       "              (pointwise): Conv1d(1536, 1536, kernel_size=(1,), stride=(1,))\n",
       "            )\n",
       "          )\n",
       "          (1): UnetBlock(\n",
       "            (conv): ConvBlock(\n",
       "              (norm): Norm(\n",
       "                (layer): BatchNorm1d(1536, eps=1e-05, momentum=0.1, affine=True, track_running_stats=True)\n",
       "              )\n",
       "              (conv): Conv1d(1536, 1536, kernel_size=(1,), stride=(1,), padding=same)\n",
       "              (act): Activation(\n",
       "                (layer): GELU(approximate='none')\n",
       "              )\n",
       "              (pool): Pool(\n",
       "                (layer): Identity()\n",
       "              )\n",
       "              (dropout): Dropout(\n",
       "                (layer): Identity()\n",
       "              )\n",
       "            )\n",
       "            (upsample): Upsample(scale_factor=2.0, mode='nearest')\n",
       "            (channel_transform): ChannelTransformBlock(\n",
       "              (norm): Norm(\n",
       "                (layer): BatchNorm1d(1280, eps=1e-05, momentum=0.1, affine=True, track_running_stats=True)\n",
       "              )\n",
       "              (conv): ChannelTransform(\n",
       "                (layer): Conv1d(1280, 1536, kernel_size=(1,), stride=(1,), padding=same)\n",
       "              )\n",
       "              (act): Activation(\n",
       "                (layer): GELU(approximate='none')\n",
       "              )\n",
       "              (dropout): Dropout(\n",
       "                (layer): Identity()\n",
       "              )\n",
       "            )\n",
       "            (sconv): SeparableConv(\n",
       "              (depthwise): Conv1d(1536, 1536, kernel_size=(3,), stride=(1,), padding=same, groups=1536, bias=False)\n",
       "              (pointwise): Conv1d(1536, 1536, kernel_size=(1,), stride=(1,))\n",
       "            )\n",
       "          )\n",
       "        )\n",
       "      )\n",
       "      (pointwise_conv): ConvBlock(\n",
       "        (norm): Norm(\n",
       "          (layer): BatchNorm1d(1536, eps=1e-05, momentum=0.1, affine=True, track_running_stats=True)\n",
       "        )\n",
       "        (conv): Conv1d(1536, 1920, kernel_size=(1,), stride=(1,), padding=same)\n",
       "        (act): Activation(\n",
       "          (layer): GELU(approximate='none')\n",
       "        )\n",
       "        (pool): Pool(\n",
       "          (layer): Identity()\n",
       "        )\n",
       "        (dropout): Dropout(\n",
       "          (layer): Dropout(p=0.1, inplace=False)\n",
       "        )\n",
       "      )\n",
       "      (act): Activation(\n",
       "        (layer): GELU(approximate='none')\n",
       "      )\n",
       "      (crop): Crop(\n",
       "        (layer): ConstantPad1d(padding=(-5120, -5120), value=0)\n",
       "      )\n",
       "    )\n",
       "    (head): ConvHead(\n",
       "      (channel_transform): ChannelTransformBlock(\n",
       "        (norm): Norm(\n",
       "          (layer): Identity()\n",
       "        )\n",
       "        (conv): ChannelTransform(\n",
       "          (layer): Conv1d(1920, 7611, kernel_size=(1,), stride=(1,), padding=same)\n",
       "        )\n",
       "        (act): Activation(\n",
       "          (layer): Softplus(beta=1.0, threshold=20.0)\n",
       "        )\n",
       "        (dropout): Dropout(\n",
       "          (layer): Identity()\n",
       "        )\n",
       "      )\n",
       "      (pool): AdaptivePool(\n",
       "        (layer): Identity()\n",
       "      )\n",
       "    )\n",
       "  )\n",
       "  (loss): MSELoss()\n",
       "  (activation): Identity()\n",
       "  (val_metrics): MetricCollection(\n",
       "    (mse): MSE()\n",
       "    (pearson): PearsonCorrCoef(\n",
       "      (pearson): PearsonCorrCoef()\n",
       "    ),\n",
       "    prefix=val_\n",
       "  )\n",
       "  (test_metrics): MetricCollection(\n",
       "    (mse): MSE()\n",
       "    (pearson): PearsonCorrCoef(\n",
       "      (pearson): PearsonCorrCoef()\n",
       "    ),\n",
       "    prefix=test_\n",
       "  )\n",
       "  (transform): Identity()\n",
       ")"
      ]
     },
     "execution_count": 2,
     "metadata": {},
     "output_type": "execute_result"
    }
   ],
   "source": [
    "model = grelu.resources.load_model(\n",
    "    project=\"borzoi\",\n",
    "    model_name=\"human_fold0\",\n",
    ")\n",
    "model"
   ]
  },
  {
   "cell_type": "code",
   "execution_count": 3,
   "metadata": {},
   "outputs": [
    {
     "data": {
      "text/plain": [
       "dict_keys(['tasks', 'train_seq_len', 'train_label_len', 'train_genome', 'train_bin_size'])"
      ]
     },
     "execution_count": 3,
     "metadata": {},
     "output_type": "execute_result"
    }
   ],
   "source": [
    "model.data_params.keys()"
   ]
  },
  {
   "cell_type": "code",
   "execution_count": 4,
   "metadata": {},
   "outputs": [
    {
     "name": "stdout",
     "output_type": "stream",
     "text": [
      "train_seq_len 524288\n",
      "train_label_len 16384\n",
      "train_genome hg38\n",
      "train_bin_size 32\n"
     ]
    }
   ],
   "source": [
    "for key in model.data_params.keys():\n",
    "    if key !=\"tasks\":\n",
    "        print(key, model.data_params[key])"
   ]
  },
  {
   "cell_type": "code",
   "execution_count": 5,
   "metadata": {},
   "outputs": [
    {
     "data": {
      "text/html": [
       "<div>\n",
       "<style scoped>\n",
       "    .dataframe tbody tr th:only-of-type {\n",
       "        vertical-align: middle;\n",
       "    }\n",
       "\n",
       "    .dataframe tbody tr th {\n",
       "        vertical-align: top;\n",
       "    }\n",
       "\n",
       "    .dataframe thead th {\n",
       "        text-align: right;\n",
       "    }\n",
       "</style>\n",
       "<table border=\"1\" class=\"dataframe\">\n",
       "  <thead>\n",
       "    <tr style=\"text-align: right;\">\n",
       "      <th></th>\n",
       "      <th>name</th>\n",
       "      <th>file</th>\n",
       "      <th>clip</th>\n",
       "      <th>clip_soft</th>\n",
       "      <th>scale</th>\n",
       "      <th>sum_stat</th>\n",
       "      <th>strand_pair</th>\n",
       "      <th>description</th>\n",
       "      <th>assay</th>\n",
       "      <th>sample</th>\n",
       "    </tr>\n",
       "  </thead>\n",
       "  <tbody>\n",
       "    <tr>\n",
       "      <th>0</th>\n",
       "      <td>CNhs10608+</td>\n",
       "      <td>/home/drk/tillage/datasets/human/cage/fantom/C...</td>\n",
       "      <td>768</td>\n",
       "      <td>384</td>\n",
       "      <td>1.0</td>\n",
       "      <td>sum</td>\n",
       "      <td>1</td>\n",
       "      <td>CAGE:Clontech Human Universal Reference Total ...</td>\n",
       "      <td>CAGE</td>\n",
       "      <td>Clontech Human Universal Reference Total RNA, ...</td>\n",
       "    </tr>\n",
       "    <tr>\n",
       "      <th>1</th>\n",
       "      <td>CNhs10608-</td>\n",
       "      <td>/home/drk/tillage/datasets/human/cage/fantom/C...</td>\n",
       "      <td>768</td>\n",
       "      <td>384</td>\n",
       "      <td>1.0</td>\n",
       "      <td>sum</td>\n",
       "      <td>0</td>\n",
       "      <td>CAGE:Clontech Human Universal Reference Total ...</td>\n",
       "      <td>CAGE</td>\n",
       "      <td>Clontech Human Universal Reference Total RNA, ...</td>\n",
       "    </tr>\n",
       "    <tr>\n",
       "      <th>2</th>\n",
       "      <td>CNhs10610+</td>\n",
       "      <td>/home/drk/tillage/datasets/human/cage/fantom/C...</td>\n",
       "      <td>768</td>\n",
       "      <td>384</td>\n",
       "      <td>1.0</td>\n",
       "      <td>sum</td>\n",
       "      <td>3</td>\n",
       "      <td>CAGE:SABiosciences XpressRef Human Universal T...</td>\n",
       "      <td>CAGE</td>\n",
       "      <td>SABiosciences XpressRef Human Universal Total ...</td>\n",
       "    </tr>\n",
       "  </tbody>\n",
       "</table>\n",
       "</div>"
      ],
      "text/plain": [
       "         name                                               file  clip  \\\n",
       "0  CNhs10608+  /home/drk/tillage/datasets/human/cage/fantom/C...   768   \n",
       "1  CNhs10608-  /home/drk/tillage/datasets/human/cage/fantom/C...   768   \n",
       "2  CNhs10610+  /home/drk/tillage/datasets/human/cage/fantom/C...   768   \n",
       "\n",
       "   clip_soft  scale sum_stat  strand_pair  \\\n",
       "0        384    1.0      sum            1   \n",
       "1        384    1.0      sum            0   \n",
       "2        384    1.0      sum            3   \n",
       "\n",
       "                                         description assay  \\\n",
       "0  CAGE:Clontech Human Universal Reference Total ...  CAGE   \n",
       "1  CAGE:Clontech Human Universal Reference Total ...  CAGE   \n",
       "2  CAGE:SABiosciences XpressRef Human Universal T...  CAGE   \n",
       "\n",
       "                                              sample  \n",
       "0  Clontech Human Universal Reference Total RNA, ...  \n",
       "1  Clontech Human Universal Reference Total RNA, ...  \n",
       "2  SABiosciences XpressRef Human Universal Total ...  "
      ]
     },
     "execution_count": 5,
     "metadata": {},
     "output_type": "execute_result"
    }
   ],
   "source": [
    "tasks = pd.DataFrame(model.data_params['tasks'])\n",
    "tasks.head(3)"
   ]
  },
  {
   "cell_type": "code",
   "execution_count": 10,
   "metadata": {},
   "outputs": [],
   "source": [
    "borzoi = model.model"
   ]
  },
  {
   "cell_type": "code",
   "execution_count": 17,
   "metadata": {},
   "outputs": [],
   "source": [
    "import seqdata as sd"
   ]
  },
  {
   "cell_type": "code",
   "execution_count": 18,
   "metadata": {},
   "outputs": [],
   "source": [
    "path_peaks = \"/cellar/users/aklie/data/datasets/K562_ATAC-seq/data/K562_ATAC-seq_peaks.zarr\""
   ]
  },
  {
   "cell_type": "code",
   "execution_count": 19,
   "metadata": {},
   "outputs": [],
   "source": [
    "peaks = sd.open_zarr(path_peaks)"
   ]
  },
  {
   "cell_type": "code",
   "execution_count": 58,
   "metadata": {},
   "outputs": [],
   "source": [
    "peaks_df = peaks[[\"chrom\", \"chromStart\", \"chromEnd\"]].to_pandas().reset_index(drop=True)\n",
    "peaks_df = peaks_df[:32]"
   ]
  },
  {
   "cell_type": "code",
   "execution_count": 59,
   "metadata": {},
   "outputs": [],
   "source": [
    "input_len = model.data_params[\"train_seq_len\"]"
   ]
  },
  {
   "cell_type": "code",
   "execution_count": 60,
   "metadata": {},
   "outputs": [],
   "source": [
    "peaks_df[\"mid\"] = (peaks_df[\"chromStart\"] + peaks_df[\"chromEnd\"]) // 2\n",
    "peaks_df[\"start\"] = peaks_df[\"mid\"] - input_len // 2\n",
    "peaks_df[\"end\"] = peaks_df[\"mid\"] + input_len // 2"
   ]
  },
  {
   "cell_type": "code",
   "execution_count": 62,
   "metadata": {},
   "outputs": [
    {
     "data": {
      "text/plain": [
       "524288"
      ]
     },
     "execution_count": 62,
     "metadata": {},
     "output_type": "execute_result"
    }
   ],
   "source": [
    "import grelu.sequence.format\n",
    "\n",
    "input_seqs = grelu.sequence.format.convert_input_type(\n",
    "    peaks_df[['chrom', 'start', 'end']],\n",
    "    output_type=\"strings\",\n",
    "    genome=\"hg38\"\n",
    ")\n",
    "input_seq = input_seqs[0]\n",
    "\n",
    "len(input_seq)"
   ]
  },
  {
   "cell_type": "code",
   "execution_count": 44,
   "metadata": {},
   "outputs": [
    {
     "name": "stdout",
     "output_type": "stream",
     "text": [
      "CPU times: user 1min 18s, sys: 6.6 s, total: 1min 24s\n",
      "Wall time: 24 s\n"
     ]
    },
    {
     "data": {
      "text/plain": [
       "(1, 7611, 6144)"
      ]
     },
     "execution_count": 44,
     "metadata": {},
     "output_type": "execute_result"
    }
   ],
   "source": [
    "%%time\n",
    "preds = model.predict_on_seqs(input_seq, device=\"cpu\")\n",
    "preds.shape"
   ]
  },
  {
   "cell_type": "code",
   "execution_count": 47,
   "metadata": {},
   "outputs": [
    {
     "data": {
      "text/html": [
       "<div>\n",
       "<style scoped>\n",
       "    .dataframe tbody tr th:only-of-type {\n",
       "        vertical-align: middle;\n",
       "    }\n",
       "\n",
       "    .dataframe tbody tr th {\n",
       "        vertical-align: top;\n",
       "    }\n",
       "\n",
       "    .dataframe thead th {\n",
       "        text-align: right;\n",
       "    }\n",
       "</style>\n",
       "<table border=\"1\" class=\"dataframe\">\n",
       "  <thead>\n",
       "    <tr style=\"text-align: right;\">\n",
       "      <th></th>\n",
       "      <th>chrom</th>\n",
       "      <th>start</th>\n",
       "      <th>end</th>\n",
       "      <th>mid</th>\n",
       "    </tr>\n",
       "  </thead>\n",
       "  <tbody>\n",
       "    <tr>\n",
       "      <th>0</th>\n",
       "      <td>chr1</td>\n",
       "      <td>99930425</td>\n",
       "      <td>100127033</td>\n",
       "      <td>100028729</td>\n",
       "    </tr>\n",
       "    <tr>\n",
       "      <th>1</th>\n",
       "      <td>chr1</td>\n",
       "      <td>99930425</td>\n",
       "      <td>100127033</td>\n",
       "      <td>100028729</td>\n",
       "    </tr>\n",
       "    <tr>\n",
       "      <th>2</th>\n",
       "      <td>chr1</td>\n",
       "      <td>99930425</td>\n",
       "      <td>100127033</td>\n",
       "      <td>100028729</td>\n",
       "    </tr>\n",
       "    <tr>\n",
       "      <th>3</th>\n",
       "      <td>chr1</td>\n",
       "      <td>99930425</td>\n",
       "      <td>100127033</td>\n",
       "      <td>100028729</td>\n",
       "    </tr>\n",
       "    <tr>\n",
       "      <th>4</th>\n",
       "      <td>chr1</td>\n",
       "      <td>99930425</td>\n",
       "      <td>100127033</td>\n",
       "      <td>100028729</td>\n",
       "    </tr>\n",
       "    <tr>\n",
       "      <th>5</th>\n",
       "      <td>chr1</td>\n",
       "      <td>99936346</td>\n",
       "      <td>100132954</td>\n",
       "      <td>100034650</td>\n",
       "    </tr>\n",
       "    <tr>\n",
       "      <th>6</th>\n",
       "      <td>chr1</td>\n",
       "      <td>99938792</td>\n",
       "      <td>100135400</td>\n",
       "      <td>100037096</td>\n",
       "    </tr>\n",
       "    <tr>\n",
       "      <th>7</th>\n",
       "      <td>chr1</td>\n",
       "      <td>99938792</td>\n",
       "      <td>100135400</td>\n",
       "      <td>100037096</td>\n",
       "    </tr>\n",
       "    <tr>\n",
       "      <th>8</th>\n",
       "      <td>chr1</td>\n",
       "      <td>99938792</td>\n",
       "      <td>100135400</td>\n",
       "      <td>100037096</td>\n",
       "    </tr>\n",
       "    <tr>\n",
       "      <th>9</th>\n",
       "      <td>chr1</td>\n",
       "      <td>99940113</td>\n",
       "      <td>100136721</td>\n",
       "      <td>100038417</td>\n",
       "    </tr>\n",
       "    <tr>\n",
       "      <th>10</th>\n",
       "      <td>chr1</td>\n",
       "      <td>99940113</td>\n",
       "      <td>100136721</td>\n",
       "      <td>100038417</td>\n",
       "    </tr>\n",
       "    <tr>\n",
       "      <th>11</th>\n",
       "      <td>chr1</td>\n",
       "      <td>99940113</td>\n",
       "      <td>100136721</td>\n",
       "      <td>100038417</td>\n",
       "    </tr>\n",
       "    <tr>\n",
       "      <th>12</th>\n",
       "      <td>chr1</td>\n",
       "      <td>99940113</td>\n",
       "      <td>100136721</td>\n",
       "      <td>100038417</td>\n",
       "    </tr>\n",
       "    <tr>\n",
       "      <th>13</th>\n",
       "      <td>chr1</td>\n",
       "      <td>99940113</td>\n",
       "      <td>100136721</td>\n",
       "      <td>100038417</td>\n",
       "    </tr>\n",
       "    <tr>\n",
       "      <th>14</th>\n",
       "      <td>chr1</td>\n",
       "      <td>99940113</td>\n",
       "      <td>100136721</td>\n",
       "      <td>100038417</td>\n",
       "    </tr>\n",
       "    <tr>\n",
       "      <th>15</th>\n",
       "      <td>chr1</td>\n",
       "      <td>99950407</td>\n",
       "      <td>100147015</td>\n",
       "      <td>100048711</td>\n",
       "    </tr>\n",
       "    <tr>\n",
       "      <th>16</th>\n",
       "      <td>chr1</td>\n",
       "      <td>99950407</td>\n",
       "      <td>100147015</td>\n",
       "      <td>100048711</td>\n",
       "    </tr>\n",
       "    <tr>\n",
       "      <th>17</th>\n",
       "      <td>chr1</td>\n",
       "      <td>99951319</td>\n",
       "      <td>100147927</td>\n",
       "      <td>100049623</td>\n",
       "    </tr>\n",
       "    <tr>\n",
       "      <th>18</th>\n",
       "      <td>chr1</td>\n",
       "      <td>99951319</td>\n",
       "      <td>100147927</td>\n",
       "      <td>100049623</td>\n",
       "    </tr>\n",
       "    <tr>\n",
       "      <th>19</th>\n",
       "      <td>chr1</td>\n",
       "      <td>99952069</td>\n",
       "      <td>100148677</td>\n",
       "      <td>100050373</td>\n",
       "    </tr>\n",
       "    <tr>\n",
       "      <th>20</th>\n",
       "      <td>chr1</td>\n",
       "      <td>99992615</td>\n",
       "      <td>100189223</td>\n",
       "      <td>100090919</td>\n",
       "    </tr>\n",
       "    <tr>\n",
       "      <th>21</th>\n",
       "      <td>chr1</td>\n",
       "      <td>99992615</td>\n",
       "      <td>100189223</td>\n",
       "      <td>100090919</td>\n",
       "    </tr>\n",
       "    <tr>\n",
       "      <th>22</th>\n",
       "      <td>chr1</td>\n",
       "      <td>99992615</td>\n",
       "      <td>100189223</td>\n",
       "      <td>100090919</td>\n",
       "    </tr>\n",
       "    <tr>\n",
       "      <th>23</th>\n",
       "      <td>chr1</td>\n",
       "      <td>100001531</td>\n",
       "      <td>100198139</td>\n",
       "      <td>100099835</td>\n",
       "    </tr>\n",
       "    <tr>\n",
       "      <th>24</th>\n",
       "      <td>chr1</td>\n",
       "      <td>100001531</td>\n",
       "      <td>100198139</td>\n",
       "      <td>100099835</td>\n",
       "    </tr>\n",
       "    <tr>\n",
       "      <th>25</th>\n",
       "      <td>chr1</td>\n",
       "      <td>100001531</td>\n",
       "      <td>100198139</td>\n",
       "      <td>100099835</td>\n",
       "    </tr>\n",
       "    <tr>\n",
       "      <th>26</th>\n",
       "      <td>chr1</td>\n",
       "      <td>100001531</td>\n",
       "      <td>100198139</td>\n",
       "      <td>100099835</td>\n",
       "    </tr>\n",
       "    <tr>\n",
       "      <th>27</th>\n",
       "      <td>chr1</td>\n",
       "      <td>100025531</td>\n",
       "      <td>100222139</td>\n",
       "      <td>100123835</td>\n",
       "    </tr>\n",
       "    <tr>\n",
       "      <th>28</th>\n",
       "      <td>chr1</td>\n",
       "      <td>100032647</td>\n",
       "      <td>100229255</td>\n",
       "      <td>100130951</td>\n",
       "    </tr>\n",
       "    <tr>\n",
       "      <th>29</th>\n",
       "      <td>chr1</td>\n",
       "      <td>100032647</td>\n",
       "      <td>100229255</td>\n",
       "      <td>100130951</td>\n",
       "    </tr>\n",
       "    <tr>\n",
       "      <th>30</th>\n",
       "      <td>chr1</td>\n",
       "      <td>100032647</td>\n",
       "      <td>100229255</td>\n",
       "      <td>100130951</td>\n",
       "    </tr>\n",
       "    <tr>\n",
       "      <th>31</th>\n",
       "      <td>chr1</td>\n",
       "      <td>100034587</td>\n",
       "      <td>100231195</td>\n",
       "      <td>100132891</td>\n",
       "    </tr>\n",
       "  </tbody>\n",
       "</table>\n",
       "</div>"
      ],
      "text/plain": [
       "   chrom      start        end        mid\n",
       "0   chr1   99930425  100127033  100028729\n",
       "1   chr1   99930425  100127033  100028729\n",
       "2   chr1   99930425  100127033  100028729\n",
       "3   chr1   99930425  100127033  100028729\n",
       "4   chr1   99930425  100127033  100028729\n",
       "5   chr1   99936346  100132954  100034650\n",
       "6   chr1   99938792  100135400  100037096\n",
       "7   chr1   99938792  100135400  100037096\n",
       "8   chr1   99938792  100135400  100037096\n",
       "9   chr1   99940113  100136721  100038417\n",
       "10  chr1   99940113  100136721  100038417\n",
       "11  chr1   99940113  100136721  100038417\n",
       "12  chr1   99940113  100136721  100038417\n",
       "13  chr1   99940113  100136721  100038417\n",
       "14  chr1   99940113  100136721  100038417\n",
       "15  chr1   99950407  100147015  100048711\n",
       "16  chr1   99950407  100147015  100048711\n",
       "17  chr1   99951319  100147927  100049623\n",
       "18  chr1   99951319  100147927  100049623\n",
       "19  chr1   99952069  100148677  100050373\n",
       "20  chr1   99992615  100189223  100090919\n",
       "21  chr1   99992615  100189223  100090919\n",
       "22  chr1   99992615  100189223  100090919\n",
       "23  chr1  100001531  100198139  100099835\n",
       "24  chr1  100001531  100198139  100099835\n",
       "25  chr1  100001531  100198139  100099835\n",
       "26  chr1  100001531  100198139  100099835\n",
       "27  chr1  100025531  100222139  100123835\n",
       "28  chr1  100032647  100229255  100130951\n",
       "29  chr1  100032647  100229255  100130951\n",
       "30  chr1  100032647  100229255  100130951\n",
       "31  chr1  100034587  100231195  100132891"
      ]
     },
     "execution_count": 47,
     "metadata": {},
     "output_type": "execute_result"
    }
   ],
   "source": [
    "output_intervals = model.input_intervals_to_output_intervals(peaks_df)\n",
    "output_intervals"
   ]
  },
  {
   "cell_type": "code",
   "execution_count": 48,
   "metadata": {},
   "outputs": [],
   "source": [
    "import grelu.visualize\n",
    "%matplotlib inline"
   ]
  },
  {
   "cell_type": "code",
   "execution_count": 52,
   "metadata": {},
   "outputs": [],
   "source": [
    "tasks_to_plot = tasks[(tasks[\"sample\"].str.contains(\"K562\")) & (tasks[\"description\"] == (\"DNASE:K562\"))].index.tolist()"
   ]
  },
  {
   "cell_type": "code",
   "execution_count": 53,
   "metadata": {},
   "outputs": [
    {
     "name": "stdout",
     "output_type": "stream",
     "text": [
      "[1397, 1398, 1399, 1901]\n",
      "['DNASE:K562', 'DNASE:K562', 'DNASE:K562', 'DNASE:K562']\n"
     ]
    }
   ],
   "source": [
    "task_names = tasks.description[tasks_to_plot].tolist() # Description of these tracks from the `tasks` dataframe\n",
    "\n",
    "print(tasks_to_plot)\n",
    "print(task_names)"
   ]
  },
  {
   "cell_type": "code",
   "execution_count": 71,
   "metadata": {},
   "outputs": [
    {
     "data": {
      "text/plain": [
       "196608"
      ]
     },
     "execution_count": 71,
     "metadata": {},
     "output_type": "execute_result"
    }
   ],
   "source": [
    "6144*32"
   ]
  },
  {
   "cell_type": "code",
   "execution_count": 63,
   "metadata": {},
   "outputs": [],
   "source": [
    "output_start = peaks_df.chromStart[0]\n",
    "output_end = peaks_df.chromEnd[0]\n",
    "output_len = output_end - output_start"
   ]
  },
  {
   "cell_type": "code",
   "execution_count": 70,
   "metadata": {},
   "outputs": [
    {
     "data": {
      "text/plain": [
       "(1, 7611, 6144)"
      ]
     },
     "execution_count": 70,
     "metadata": {},
     "output_type": "execute_result"
    }
   ],
   "source": [
    "preds.shape"
   ]
  },
  {
   "cell_type": "code",
   "execution_count": 69,
   "metadata": {},
   "outputs": [
    {
     "data": {
      "text/plain": [
       "(4, 6144)"
      ]
     },
     "execution_count": 69,
     "metadata": {},
     "output_type": "execute_result"
    }
   ],
   "source": [
    "preds[0, tasks_to_plot, :].shape"
   ]
  },
  {
   "cell_type": "code",
   "execution_count": 64,
   "metadata": {},
   "outputs": [
    {
     "data": {
      "image/png": "[encoded data removed]",
      "text/plain": [
       "<Figure size 2000x600 with 4 Axes>"
      ]
     },
     "metadata": {},
     "output_type": "display_data"
    }
   ],
   "source": [
    "fig = grelu.visualize.plot_tracks(\n",
    "    preds[0, tasks_to_plot, :], # Outputs to plot\n",
    "    start_pos=output_start, # Start coordinate for the x-axis label\n",
    "    end_pos=output_end, # End coordinate for the x-axis label\n",
    "    titles=task_names, # titles for each track\n",
    "    figsize=(20, 6), # width, height\n",
    ")"
   ]
  },
  {
   "cell_type": "code",
   "execution_count": 65,
   "metadata": {},
   "outputs": [],
   "source": [
    "import pyBigWig\n",
    "import matplotlib.pyplot as plt\n",
    "import seaborn as sns\n",
    "\n",
    "def plot_tracks(tracks, interval, height=1.5, colors=None):\n",
    "  _, axes = plt.subplots(len(tracks), 1, figsize=(20, height * len(tracks)), sharex=True)\n",
    "  if not isinstance(axes, np.ndarray):\n",
    "    axes = [axes]\n",
    "  for ax, (title, y) in zip(axes, tracks.items()):\n",
    "    if colors is not None:\n",
    "      ax.fill_between(np.linspace(interval[\"start\"], interval[\"end\"], num=len(y)), y, color=colors[title])\n",
    "    else:\n",
    "      ax.fill_between(np.linspace(interval[\"start\"], interval[\"end\"], num=len(y)), y)\n",
    "    ax.set_title(title)\n",
    "    sns.despine(top=True, right=True, bottom=True)\n",
    "  ax.set_xlabel(f\"{interval['chrom']}:{interval['start']}-{interval['end']}\")\n",
    "  plt.tight_layout()"
   ]
  },
  {
   "cell_type": "code",
   "execution_count": 66,
   "metadata": {},
   "outputs": [
    {
     "data": {
      "image/png": "[encoded data removed]",
      "text/plain": [
       "<Figure size 2000x150 with 1 Axes>"
      ]
     },
     "metadata": {},
     "output_type": "display_data"
    }
   ],
   "source": [
    "# Get data\n",
    "seq_num = 10\n",
    "ser = peaks[[\"name\", \"chrom\", \"chromStart\", \"chromEnd\"]].to_dataframe().loc[seq_num]\n",
    "sdata_vals = peaks[\"cov\"][seq_num].values.squeeze()\n",
    "chrom = ser[\"chrom\"]\n",
    "chromStart = ser[\"chromStart\"]\n",
    "chromEnd = ser[\"chromEnd\"]\n",
    "interval = dict(chrom=chrom, start=chromStart, end=chromEnd)\n",
    "tracks = {\n",
    "    \"SeqData\": sdata_vals,\n",
    "}\n",
    "colors = {\n",
    "    \"SeqData\": \"lightblue\",\n",
    "}\n",
    "\n",
    "# Plot tracks\n",
    "plot_tracks(\n",
    "    tracks=tracks,\n",
    "    interval=interval,\n",
    "    colors=colors\n",
    ")"
   ]
  },
  {
   "cell_type": "code",
   "execution_count": null,
   "metadata": {},
   "outputs": [],
   "source": []
  }
 ],
 "metadata": {
  "kernelspec": {
   "display_name": "Python 3.11 eugene_tools",
   "language": "python",
   "name": "eugene_tools"
  },
  "language_info": {
   "codemirror_mode": {
    "name": "ipython",
    "version": 3
   },
   "file_extension": ".py",
   "mimetype": "text/x-python",
   "name": "python",
   "nbconvert_exporter": "python",
   "pygments_lexer": "ipython3",
   "version": "3.11.10"
  }
 },
 "nbformat": 4,
 "nbformat_minor": 2
}
