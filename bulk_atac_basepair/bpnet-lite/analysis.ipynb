{
 "cells": [
  {
   "cell_type": "code",
   "execution_count": 1,
   "metadata": {},
   "outputs": [
    {
     "name": "stdout",
     "output_type": "stream",
     "text": [
      "The history saving thread hit an unexpected error (DatabaseError('database disk image is malformed')).History will not be written to the database.\n"
     ]
    }
   ],
   "source": [
    "# Imports\n",
    "import os\n",
    "import json\n",
    "import torch\n",
    "import numpy as np\n",
    "import pandas as pd\n",
    "\n",
    "import matplotlib.pyplot as plt\n",
    "import seaborn as sns\n",
    "sns.set_style('white')\n",
    "\n",
    "from tangermeme.io import extract_loci\n",
    "from tangermeme.predict import predict\n",
    "from tangermeme.plot import plot_logo\n",
    "from tangermeme.deep_lift_shap import deep_lift_shap\n",
    "from bpnetlite.bpnet import ControlWrapper, CountWrapper, ProfileWrapper\n",
    "from bpnetlite.performance import calculate_performance_measures\n",
    "from bpnetlite.chrombpnet import BPNet\n",
    "\n",
    "from weasyprint import HTML, CSS"
   ]
  },
  {
   "cell_type": "code",
   "execution_count": 54,
   "metadata": {},
   "outputs": [],
   "source": [
    "path_evaluation = \"/cellar/users/aklie/projects/ML4GLand/tutorials/bulk_atac_basepair/bpnet-lite/bias_model/evaluation\""
   ]
  },
  {
   "cell_type": "markdown",
   "metadata": {},
   "source": [
    "# Training curves"
   ]
  },
  {
   "cell_type": "code",
   "execution_count": 2,
   "metadata": {},
   "outputs": [],
   "source": [
    "alpha = 6"
   ]
  },
  {
   "cell_type": "code",
   "execution_count": 3,
   "metadata": {},
   "outputs": [],
   "source": [
    "# bias model\n",
    "path_log = \"/cellar/users/aklie/projects/ML4GLand/tutorials/bulk_atac_basepair/bpnet-lite/bias_model/K562.bias.log\""
   ]
  },
  {
   "cell_type": "code",
   "execution_count": 4,
   "metadata": {},
   "outputs": [
    {
     "data": {
      "text/html": [
       "<div>\n",
       "<style scoped>\n",
       "    .dataframe tbody tr th:only-of-type {\n",
       "        vertical-align: middle;\n",
       "    }\n",
       "\n",
       "    .dataframe tbody tr th {\n",
       "        vertical-align: top;\n",
       "    }\n",
       "\n",
       "    .dataframe thead th {\n",
       "        text-align: right;\n",
       "    }\n",
       "</style>\n",
       "<table border=\"1\" class=\"dataframe\">\n",
       "  <thead>\n",
       "    <tr style=\"text-align: right;\">\n",
       "      <th></th>\n",
       "      <th>Epoch</th>\n",
       "      <th>Iteration</th>\n",
       "      <th>Training Time</th>\n",
       "      <th>Validation Time</th>\n",
       "      <th>Training MNLL</th>\n",
       "      <th>Training Count MSE</th>\n",
       "      <th>Validation MNLL</th>\n",
       "      <th>Validation Profile Pearson</th>\n",
       "      <th>Validation Count Pearson</th>\n",
       "      <th>Validation Count MSE</th>\n",
       "      <th>Saved?</th>\n",
       "      <th>Training Loss</th>\n",
       "      <th>Validation Loss</th>\n",
       "    </tr>\n",
       "  </thead>\n",
       "  <tbody>\n",
       "    <tr>\n",
       "      <th>0</th>\n",
       "      <td>0</td>\n",
       "      <td>0</td>\n",
       "      <td>3.081924</td>\n",
       "      <td>4.638357</td>\n",
       "      <td>216.702850</td>\n",
       "      <td>18.638351</td>\n",
       "      <td>219.641678</td>\n",
       "      <td>0.146548</td>\n",
       "      <td>-0.083016</td>\n",
       "      <td>11.889074</td>\n",
       "      <td>True</td>\n",
       "      <td>328.532959</td>\n",
       "      <td>290.976124</td>\n",
       "    </tr>\n",
       "    <tr>\n",
       "      <th>32</th>\n",
       "      <td>1</td>\n",
       "      <td>3200</td>\n",
       "      <td>0.875983</td>\n",
       "      <td>4.525635</td>\n",
       "      <td>153.392090</td>\n",
       "      <td>0.646548</td>\n",
       "      <td>160.784027</td>\n",
       "      <td>0.405790</td>\n",
       "      <td>0.623615</td>\n",
       "      <td>0.690880</td>\n",
       "      <td>True</td>\n",
       "      <td>157.271379</td>\n",
       "      <td>164.929306</td>\n",
       "    </tr>\n",
       "    <tr>\n",
       "      <th>64</th>\n",
       "      <td>2</td>\n",
       "      <td>6400</td>\n",
       "      <td>1.747073</td>\n",
       "      <td>4.521678</td>\n",
       "      <td>153.425323</td>\n",
       "      <td>0.809450</td>\n",
       "      <td>160.424820</td>\n",
       "      <td>0.408205</td>\n",
       "      <td>0.697314</td>\n",
       "      <td>0.587702</td>\n",
       "      <td>False</td>\n",
       "      <td>158.282021</td>\n",
       "      <td>163.951033</td>\n",
       "    </tr>\n",
       "    <tr>\n",
       "      <th>96</th>\n",
       "      <td>3</td>\n",
       "      <td>9600</td>\n",
       "      <td>2.600977</td>\n",
       "      <td>4.519559</td>\n",
       "      <td>143.995819</td>\n",
       "      <td>1.364585</td>\n",
       "      <td>160.251785</td>\n",
       "      <td>0.408853</td>\n",
       "      <td>0.715799</td>\n",
       "      <td>0.701628</td>\n",
       "      <td>False</td>\n",
       "      <td>152.183328</td>\n",
       "      <td>164.461551</td>\n",
       "    </tr>\n",
       "    <tr>\n",
       "      <th>128</th>\n",
       "      <td>4</td>\n",
       "      <td>12800</td>\n",
       "      <td>3.454323</td>\n",
       "      <td>4.519546</td>\n",
       "      <td>149.421783</td>\n",
       "      <td>0.948719</td>\n",
       "      <td>160.155014</td>\n",
       "      <td>0.409781</td>\n",
       "      <td>0.727838</td>\n",
       "      <td>0.555521</td>\n",
       "      <td>False</td>\n",
       "      <td>155.114100</td>\n",
       "      <td>163.488137</td>\n",
       "    </tr>\n",
       "  </tbody>\n",
       "</table>\n",
       "</div>"
      ],
      "text/plain": [
       "     Epoch  Iteration  Training Time  Validation Time  Training MNLL  \\\n",
       "0        0          0       3.081924         4.638357     216.702850   \n",
       "32       1       3200       0.875983         4.525635     153.392090   \n",
       "64       2       6400       1.747073         4.521678     153.425323   \n",
       "96       3       9600       2.600977         4.519559     143.995819   \n",
       "128      4      12800       3.454323         4.519546     149.421783   \n",
       "\n",
       "     Training Count MSE  Validation MNLL  Validation Profile Pearson  \\\n",
       "0             18.638351       219.641678                    0.146548   \n",
       "32             0.646548       160.784027                    0.405790   \n",
       "64             0.809450       160.424820                    0.408205   \n",
       "96             1.364585       160.251785                    0.408853   \n",
       "128            0.948719       160.155014                    0.409781   \n",
       "\n",
       "     Validation Count Pearson  Validation Count MSE  Saved?  Training Loss  \\\n",
       "0                   -0.083016             11.889074    True     328.532959   \n",
       "32                   0.623615              0.690880    True     157.271379   \n",
       "64                   0.697314              0.587702   False     158.282021   \n",
       "96                   0.715799              0.701628   False     152.183328   \n",
       "128                  0.727838              0.555521   False     155.114100   \n",
       "\n",
       "     Validation Loss  \n",
       "0         290.976124  \n",
       "32        164.929306  \n",
       "64        163.951033  \n",
       "96        164.461551  \n",
       "128       163.488137  "
      ]
     },
     "execution_count": 4,
     "metadata": {},
     "output_type": "execute_result"
    }
   ],
   "source": [
    "# log dataframe\n",
    "bias_log_df = pd.read_csv(path_log, sep=\"\\t\").drop_duplicates(subset=\"Epoch\", keep=\"first\")\n",
    "bias_log_df[\"Training Loss\"] = bias_log_df[\"Training MNLL\"] + alpha*bias_log_df[\"Training Count MSE\"]\n",
    "bias_log_df[\"Validation Loss\"] = bias_log_df[\"Validation MNLL\"] + alpha*bias_log_df[\"Validation Count MSE\"]\n",
    "bias_log_df.head()"
   ]
  },
  {
   "cell_type": "code",
   "execution_count": 55,
   "metadata": {},
   "outputs": [
    {
     "data": {
      "image/png": "[encoded data removed]",
      "text/plain": [
       "<Figure size 1000x600 with 1 Axes>"
      ]
     },
     "metadata": {},
     "output_type": "display_data"
    }
   ],
   "source": [
    "# Plot losses vs \"Epoch\"\n",
    "with sns.plotting_context(\"notebook\", font_scale=1.5):\n",
    "    plt.figure(figsize=(10, 6))\n",
    "    sns.lineplot(data=bias_log_df, x=\"Epoch\", y=\"Validation Loss\", label=\"Validation Loss\")\n",
    "    sns.lineplot(data=bias_log_df, x=\"Epoch\", y=\"Training Loss\", label=\"Training Loss\")\n",
    "    plt.xlabel(\"Epoch\")\n",
    "    plt.ylabel(\"Total Loss\")\n",
    "    plt.savefig(f\"{path_evaluation}/K562.bias.epoch_loss.png\", dpi=300)"
   ]
  },
  {
   "cell_type": "code",
   "execution_count": 56,
   "metadata": {},
   "outputs": [
    {
     "data": {
      "image/png": "[encoded data removed]",
      "text/plain": [
       "<Figure size 1000x600 with 1 Axes>"
      ]
     },
     "metadata": {},
     "output_type": "display_data"
    }
   ],
   "source": [
    "# Plot \"Validation Count Pearson\" vs \"Iteration\"\n",
    "with sns.plotting_context(\"notebook\", font_scale=1.5):\n",
    "    plt.figure(figsize=(10, 6))\n",
    "    sns.lineplot(data=bias_log_df, x=\"Epoch\", y=\"Validation Count Pearson\")\n",
    "    plt.savefig(f\"{path_evaluation}/K562.bias.epoch_val_count_pearson.png\", dpi=300)"
   ]
  },
  {
   "cell_type": "code",
   "execution_count": 57,
   "metadata": {},
   "outputs": [
    {
     "data": {
      "image/png": "[encoded data removed]",
      "text/plain": [
       "<Figure size 1000x600 with 1 Axes>"
      ]
     },
     "metadata": {},
     "output_type": "display_data"
    }
   ],
   "source": [
    "# Plot \"Validation Profile Pearson\" vs \"Iteration\"\n",
    "with sns.plotting_context(\"notebook\", font_scale=1.5):\n",
    "    plt.figure(figsize=(10, 6))\n",
    "    sns.lineplot(data=bias_log_df, x=\"Epoch\", y=\"Validation Profile Pearson\")\n",
    "    plt.savefig(f\"{path_evaluation}/K562.bias.epoch_val_profile_pearson.png\", dpi=300)"
   ]
  },
  {
   "cell_type": "markdown",
   "metadata": {},
   "source": [
    "# Load bias model"
   ]
  },
  {
   "cell_type": "code",
   "execution_count": 58,
   "metadata": {},
   "outputs": [],
   "source": [
    "path_bias_model = \"/cellar/users/aklie/projects/ML4GLand/tutorials/bulk_atac_basepair/bpnet-lite/bias_model/K562.bias.torch\""
   ]
  },
  {
   "cell_type": "code",
   "execution_count": 59,
   "metadata": {},
   "outputs": [
    {
     "name": "stderr",
     "output_type": "stream",
     "text": [
      "/tmp/ipykernel_1274950/4237501791.py:5: FutureWarning: You are using `torch.load` with `weights_only=False` (the current default value), which uses the default pickle module implicitly. It is possible to construct malicious pickle data which will execute arbitrary code during unpickling (See https://github.com/pytorch/pytorch/blob/main/SECURITY.md#untrusted-models for more details). In a future release, the default value for `weights_only` will be flipped to `True`. This limits the functions that could be executed during unpickling. Arbitrary objects will no longer be allowed to be loaded via this mode unless they are explicitly allowlisted by the user via `torch.serialization.add_safe_globals`. We recommend you start setting `weights_only=True` for any use case where you don't have full control of the loaded file. Please open an issue on GitHub for any issues related to this experimental feature.\n",
      "  bias_model = torch.load(path_bias_model, map_location=\"cuda\").eval()\n"
     ]
    },
    {
     "data": {
      "text/plain": [
       "BPNet(\n",
       "  (iconv): Conv1d(4, 128, kernel_size=(21,), stride=(1,), padding=(10,))\n",
       "  (irelu): ReLU()\n",
       "  (rconvs): ModuleList(\n",
       "    (0): Conv1d(128, 128, kernel_size=(3,), stride=(1,), padding=(2,), dilation=(2,))\n",
       "    (1): Conv1d(128, 128, kernel_size=(3,), stride=(1,), padding=(4,), dilation=(4,))\n",
       "    (2): Conv1d(128, 128, kernel_size=(3,), stride=(1,), padding=(8,), dilation=(8,))\n",
       "    (3): Conv1d(128, 128, kernel_size=(3,), stride=(1,), padding=(16,), dilation=(16,))\n",
       "  )\n",
       "  (rrelus): ModuleList(\n",
       "    (0-3): 4 x ReLU()\n",
       "  )\n",
       "  (fconv): Conv1d(128, 1, kernel_size=(75,), stride=(1,), padding=(37,))\n",
       "  (linear): Linear(in_features=128, out_features=1, bias=True)\n",
       ")"
      ]
     },
     "execution_count": 59,
     "metadata": {},
     "output_type": "execute_result"
    }
   ],
   "source": [
    "# Load the model\n",
    "if path_bias_model.endswith(\".h5\"):\n",
    "    bias_model = BPNet.from_chrombpnet(path_bias_model).cuda().eval()\n",
    "elif path_bias_model.endswith(\".torch\"):\n",
    "    bias_model = torch.load(path_bias_model, map_location=\"cuda\").eval()\n",
    "bias_model"
   ]
  },
  {
   "cell_type": "markdown",
   "metadata": {},
   "source": [
    "# Bias model performance"
   ]
  },
  {
   "cell_type": "code",
   "execution_count": 60,
   "metadata": {},
   "outputs": [],
   "source": [
    "from scipy.stats import gaussian_kde\n",
    "from sklearn.metrics import r2_score\n",
    "from scipy.stats import pearsonr, spearmanr\n",
    "\n",
    "def scatter(\n",
    "    x,\n",
    "    y,\n",
    "    ax=None,\n",
    "    density=False,\n",
    "    c=\"b\",\n",
    "    alpha=1,\n",
    "    s=10,\n",
    "    xlabel=\"Observed\",\n",
    "    ylabel=\"Predicted\",\n",
    "    figsize=(4, 4),\n",
    "    save=None,\n",
    "    add_reference_line=True,\n",
    "    rasterized=False,\n",
    "    return_axes=False,\n",
    "):\n",
    "    # Set up the axes\n",
    "    if ax is None:\n",
    "        fig, ax = plt.subplots(figsize=figsize)\n",
    "\n",
    "    # Drop NA values if any\n",
    "    x_nas = np.isnan(x)\n",
    "    y_nas = np.isnan(y)\n",
    "    x = x[~x_nas & ~y_nas]\n",
    "    y = y[~x_nas & ~y_nas]\n",
    "\n",
    "    if density:\n",
    "        # Get point densities\n",
    "        xy = np.vstack([x,y])\n",
    "        z = gaussian_kde(xy)(xy)\n",
    "\n",
    "        # Sort the points by density, so that the densest points are plotted last\n",
    "        idx = z.argsort()\n",
    "        x, y, z = x[idx], y[idx], z[idx]\n",
    "        c=z\n",
    "\n",
    "    # Plot the points\n",
    "    ax.scatter(x, y, c=c, s=s, rasterized=rasterized, alpha=alpha)\n",
    "    ax.set_xlabel(xlabel)\n",
    "    ax.set_ylabel(ylabel)\n",
    "\n",
    "    # Add scores\n",
    "    r2 = r2_score(x, y)\n",
    "    pearson_r = pearsonr(x, y)\n",
    "    spearman_r = spearmanr(x, y)\n",
    "    ax.annotate(f\"R2: {r2:.3f}\", (0.05, 0.95), xycoords=\"axes fraction\")\n",
    "    ax.annotate(f\"Pearson: {pearson_r[0]:.3f}\", (0.05, 0.90), xycoords=\"axes fraction\")\n",
    "    ax.annotate(f\"Spearman: {spearman_r[0]:.3f}\", (0.05, 0.85), xycoords=\"axes fraction\")\n",
    "    \n",
    "    # Add y=x line for reference but make the mins and maxes extend past the data\n",
    "    if add_reference_line:\n",
    "        min_val = min(min(x), min(y))\n",
    "        max_val = max(max(x), max(y))\n",
    "        ax.plot([min_val, max_val], [min_val, max_val], c=\"k\", ls=\"--\", lw=1)\n",
    "    \n",
    "    # Plt\n",
    "    plt.tight_layout()\n",
    "\n",
    "    # Save\n",
    "    if save:\n",
    "        plt.savefig(save, dpi=300)\n",
    "        plt.close()\n",
    "    else:\n",
    "        plt.show()\n",
    "\n",
    "    if return_axes:\n",
    "        return ax\n",
    "    \n",
    "def log_softmax_profile(\n",
    "    y_profile,\n",
    "):\n",
    "    # Log softmax the predicted profile\n",
    "    z = y_profile.shape\n",
    "    y_profile = y_profile.reshape(y_profile.shape[0], -1)\n",
    "    y_profile = torch.nn.functional.log_softmax(y_profile, dim=-1)\n",
    "    y_profile = y_profile.reshape(*z)\n",
    "    return y_profile"
   ]
  },
  {
   "cell_type": "code",
   "execution_count": 61,
   "metadata": {},
   "outputs": [],
   "source": [
    "NARROWPEAK_SCHEMA = [\"chr\", \"start\", \"end\", \"1\", \"2\", \"3\", \"4\", \"5\", \"6\", \"summit\"]\n",
    "path_peaks = \"/cellar/users/aklie/data/datasets/K562_ATAC-seq/data/ENCSR868FGK_K562_ATAC-seq_peaks.bed\"\n",
    "path_negatives = \"/cellar/users/aklie/data/datasets/K562_ATAC-seq/data/K562_ATAC-seq_negatives.bed\"\n",
    "path_signal = \"/cellar/users/aklie/data/datasets/K562_ATAC-seq/data/K562_ATAC-seq_unstranded_counts.bw\"\n",
    "path_fa = \"/cellar/users/aklie/data/datasets/K562_ATAC-seq/data/hg38.fa\"\n",
    "path_splits = \"/cellar/users/aklie/projects/ML4GLand/tutorials/data/splits/fold_0.json\"\n",
    "seq_len=2114"
   ]
  },
  {
   "cell_type": "code",
   "execution_count": 62,
   "metadata": {},
   "outputs": [
    {
     "data": {
      "text/plain": [
       "['chr1', 'chr3', 'chr6']"
      ]
     },
     "execution_count": 62,
     "metadata": {},
     "output_type": "execute_result"
    }
   ],
   "source": [
    "# Load test split\n",
    "splits = json.load(open(path_splits, \"r\"))\n",
    "chroms=splits[\"test\"]\n",
    "chroms"
   ]
  },
  {
   "cell_type": "markdown",
   "metadata": {},
   "source": [
    "## Performance in peaks"
   ]
  },
  {
   "cell_type": "code",
   "execution_count": 99,
   "metadata": {},
   "outputs": [],
   "source": [
    "recalculate_interval=True"
   ]
  },
  {
   "cell_type": "code",
   "execution_count": 100,
   "metadata": {},
   "outputs": [
    {
     "name": "stdout",
     "output_type": "stream",
     "text": [
      "Number of peak: 66484\n"
     ]
    }
   ],
   "source": [
    "# read peak\n",
    "peak_df = pd.read_csv(path_peaks, sep=\"\\t\", header=None, names=NARROWPEAK_SCHEMA)\n",
    "if recalculate_interval:\n",
    "    peak_df[\"start\"] = peak_df[\"start\"] + peak_df[\"summit\"] - seq_len // 2\n",
    "    peak_df[\"end\"] = peak_df[\"start\"] + seq_len\n",
    "peak_df = peak_df[peak_df[\"chr\"].isin(chroms)]\n",
    "print(f\"Number of peak: {len(peak_df)}\")\n",
    "\n",
    "# extract peak\n",
    "peak_seqs, peak_signals = extract_loci(\n",
    "    peak_df,\n",
    "    path_fa,\n",
    "    signals=[path_signal],\n",
    "    ignore=list('QWERYUIOPSDFHJKLZXVBNM'),\n",
    ")\n",
    "\n",
    "# predict\n",
    "peak_pred_profile, peak_predicted_counts = predict(model=bias_model, X=peak_seqs)\n",
    "\n",
    "# log softmax\n",
    "peak_pred_profile_probs = log_softmax_profile(peak_signals)"
   ]
  },
  {
   "cell_type": "code",
   "execution_count": 101,
   "metadata": {},
   "outputs": [
    {
     "data": {
      "text/plain": [
       "((66484,), (66484,))"
      ]
     },
     "execution_count": 101,
     "metadata": {},
     "output_type": "execute_result"
    }
   ],
   "source": [
    "peak_counts = np.log(peak_signals.sum(axis=(1, 2)).cpu().detach().numpy() + 1)\n",
    "peak_predicted_counts_np = peak_predicted_counts.squeeze().cpu().detach().numpy()\n",
    "peak_counts.shape, peak_predicted_counts_np.shape"
   ]
  },
  {
   "cell_type": "code",
   "execution_count": 102,
   "metadata": {},
   "outputs": [
    {
     "ename": "SyntaxError",
     "evalue": "invalid syntax. Perhaps you forgot a comma? (3551257160.py, line 1)",
     "output_type": "error",
     "traceback": [
      "\u001b[0;36m  Cell \u001b[0;32mIn[102], line 1\u001b[0;36m\u001b[0m\n\u001b[0;31m    scatter(x\u001b[0m\n\u001b[0m            ^\u001b[0m\n\u001b[0;31mSyntaxError\u001b[0m\u001b[0;31m:\u001b[0m invalid syntax. Perhaps you forgot a comma?\n"
     ]
    }
   ],
   "source": [
    "scatter(\n",
    "    peak_counts,\n",
    "    peak_predicted_counts_np,\n",
    "    xlabel=\"Log(raw counts+1)\",\n",
    "    ylabel=\"Predicted Log(raw counts+1)\",\n",
    "    add_reference_line=False,\n",
    "    density=True,\n",
    "    figsize=(8, 8),\n",
    "    save=f\"{path_evaluation}/K562.bias.peaks_pearsonr.png\",\n",
    ")"
   ]
  },
  {
   "cell_type": "code",
   "execution_count": 103,
   "metadata": {},
   "outputs": [],
   "source": [
    "peak_measures = calculate_performance_measures(\n",
    "    peak_pred_profile_probs,\n",
    "    peak_signals,\n",
    "    peak_predicted_counts, \n",
    "    measures=['profile_mnll', 'profile_pearson', 'profile_jsd', 'count_mse', 'count_pearson', 'count_spearman']\n",
    ")"
   ]
  },
  {
   "cell_type": "code",
   "execution_count": 104,
   "metadata": {},
   "outputs": [],
   "source": [
    "# We want to shuffle along the target_length axis preserving the other axes for each sequence\n",
    "shuffled_peak_signals = peak_signals.clone()\n",
    "for i in range(shuffled_peak_signals.shape[0]):\n",
    "    shuffled_peak_signals[i] = shuffled_peak_signals[i, :, torch.randperm(shuffled_peak_signals.shape[2])]\n",
    "\n",
    "peak_shuffled_measures = calculate_performance_measures(\n",
    "    peak_pred_profile_probs,\n",
    "    shuffled_peak_signals,\n",
    "    peak_predicted_counts, \n",
    "    measures=['profile_jsd']\n",
    ")"
   ]
  },
  {
   "cell_type": "code",
   "execution_count": 105,
   "metadata": {},
   "outputs": [
    {
     "data": {
      "image/png": "[encoded data removed]",
      "text/plain": [
       "<Figure size 640x480 with 1 Axes>"
      ]
     },
     "metadata": {},
     "output_type": "display_data"
    }
   ],
   "source": [
    "#plot jsd histogram\n",
    "with sns.plotting_context(\"notebook\", font_scale=1.5):\n",
    "    plt.figure()\n",
    "    n, bins, patches=plt.hist(peak_measures[\"profile_jsd\"], 50, facecolor='blue', alpha=0.5, label=\"Predicted vs Labels\")\n",
    "    n1, bins1, patches1=plt.hist(peak_shuffled_measures[\"profile_jsd\"], 50, facecolor='black', alpha=0.5,label='Shuffled Labels vs Labels')\n",
    "    plt.xlim(0, 1)\n",
    "    plt.xlabel('JSD Profile in Peaks')\n",
    "    plt.legend(loc='best')\n",
    "    plt.savefig(f\"{path_evaluation}/K562.bias.peaks_jsd.png\", dpi=300)"
   ]
  },
  {
   "cell_type": "markdown",
   "metadata": {},
   "source": [
    "## Performance in negatives"
   ]
  },
  {
   "cell_type": "code",
   "execution_count": 106,
   "metadata": {},
   "outputs": [],
   "source": [
    "recalculate_interval=False"
   ]
  },
  {
   "cell_type": "code",
   "execution_count": 107,
   "metadata": {},
   "outputs": [
    {
     "name": "stdout",
     "output_type": "stream",
     "text": [
      "Number of negative: 40817\n"
     ]
    }
   ],
   "source": [
    "# read negative\n",
    "negative_df = pd.read_csv(path_negatives, sep=\"\\t\", header=None, names=NARROWPEAK_SCHEMA)\n",
    "if recalculate_interval:\n",
    "    negative_df[\"start\"] = negative_df[\"start\"] + negative_df[\"summit\"] - seq_len // 2\n",
    "    negative_df[\"end\"] = negative_df[\"start\"] + seq_len\n",
    "negative_df = negative_df[negative_df[\"chr\"].isin(chroms)]\n",
    "print(f\"Number of negative: {len(negative_df)}\")\n",
    "\n",
    "# extract negative\n",
    "negative_seqs, negative_signals = extract_loci(\n",
    "    negative_df,\n",
    "    path_fa,\n",
    "    signals=[path_signal],\n",
    "    ignore=list('QWERYUIOPSDFHJKLZXVBNM'),\n",
    ")\n",
    "\n",
    "# predict\n",
    "negative_pred_signal, negative_predicted_counts = predict(model=bias_model, X=negative_seqs)\n",
    "\n",
    "# log softmax\n",
    "negative_pred_profile_probs = log_softmax_profile(negative_signals)"
   ]
  },
  {
   "cell_type": "code",
   "execution_count": 108,
   "metadata": {},
   "outputs": [
    {
     "data": {
      "text/plain": [
       "((40817,), torch.Size([40817, 1]))"
      ]
     },
     "execution_count": 108,
     "metadata": {},
     "output_type": "execute_result"
    }
   ],
   "source": [
    "negative_counts = np.log(negative_signals.sum(axis=(1, 2)).cpu().detach().numpy() + 1)\n",
    "negative_predicted_counts_np = negative_predicted_counts.squeeze().cpu().detach().numpy()\n",
    "negative_counts.shape, negative_predicted_counts.shape"
   ]
  },
  {
   "cell_type": "code",
   "execution_count": 73,
   "metadata": {},
   "outputs": [],
   "source": [
    "scatter(\n",
    "    negative_counts,\n",
    "    negative_predicted_counts_np,\n",
    "    xlabel=\"Log(raw counts+1)\",\n",
    "    ylabel=\"Predicted Log(raw counts+1)\",\n",
    "    add_reference_line=False,\n",
    "    density=True,\n",
    "    figsize=(8, 8),\n",
    "    save=f\"{path_evaluation}/K562.bias.negatives_pearsonr.png\",\n",
    ")"
   ]
  },
  {
   "cell_type": "code",
   "execution_count": 109,
   "metadata": {},
   "outputs": [],
   "source": [
    "# We want to shuffle along the target_length axis preserving the other axes for each sequence\n",
    "shuffled_negative_signals = negative_signals.clone()\n",
    "for i in range(shuffled_negative_signals.shape[0]):\n",
    "    shuffled_negative_signals[i] = shuffled_negative_signals[i, :, torch.randperm(shuffled_negative_signals.shape[2])]\n",
    "\n",
    "negative_measures = calculate_performance_measures(\n",
    "    negative_pred_profile_probs,\n",
    "    negative_signals,\n",
    "    negative_predicted_counts, \n",
    "    measures=['profile_mnll', 'profile_pearson', 'profile_jsd', 'count_mse', 'count_pearson', 'count_spearman']\n",
    ")"
   ]
  },
  {
   "cell_type": "code",
   "execution_count": 110,
   "metadata": {},
   "outputs": [],
   "source": [
    "# We want to shuffle along the target_length axis preserving the other axes for each sequence\n",
    "shuffled_negative_signals = negative_signals.clone()\n",
    "for i in range(shuffled_negative_signals.shape[0]):\n",
    "    shuffled_negative_signals[i] = shuffled_negative_signals[i, :, torch.randperm(shuffled_negative_signals.shape[2])]\n",
    "\n",
    "negative_shuffled_measures = calculate_performance_measures(\n",
    "    negative_pred_profile_probs,\n",
    "    shuffled_negative_signals,\n",
    "    negative_predicted_counts, \n",
    "    measures=['profile_jsd']\n",
    ")"
   ]
  },
  {
   "cell_type": "code",
   "execution_count": 111,
   "metadata": {},
   "outputs": [
    {
     "data": {
      "image/png": "[encoded data removed]",
      "text/plain": [
       "<Figure size 640x480 with 1 Axes>"
      ]
     },
     "metadata": {},
     "output_type": "display_data"
    }
   ],
   "source": [
    "# plot jsd histogram\n",
    "with sns.plotting_context(\"notebook\", font_scale=1.5):\n",
    "    plt.figure()\n",
    "    n, bins, patches=plt.hist(negative_measures[\"profile_jsd\"], 50, facecolor='blue', alpha=0.5, label=\"Predicted vs Labels\")\n",
    "    n1, bins1, patches1=plt.hist(negative_shuffled_measures[\"profile_jsd\"], 50, facecolor='black', alpha=0.5,label='Shuffled Labels vs Labels')\n",
    "    plt.xlim(0, 1)\n",
    "    plt.xlabel('JSD Profile in Negatives')\n",
    "    plt.legend(loc='best')\n",
    "    plt.savefig(f\"{path_evaluation}/K562.bias.negatives_jsd.png\", dpi=300)"
   ]
  },
  {
   "cell_type": "markdown",
   "metadata": {},
   "source": [
    "## Overall performance"
   ]
  },
  {
   "cell_type": "code",
   "execution_count": 112,
   "metadata": {},
   "outputs": [],
   "source": [
    "metrics = {\n",
    "    \"counts_metrics\": {\n",
    "        \"negatives\": {\n",
    "            \"spearmanr\": float(negative_measures[\"count_spearman\"].item()),\n",
    "            \"pearsonr\": float(negative_measures[\"count_pearson\"].item()),\n",
    "            \"mse\": float(negative_measures[\"count_mse\"].item())\n",
    "        },\n",
    "        \"peaks\": {\n",
    "            \"spearmanr\": float(peak_measures[\"count_spearman\"].item()),\n",
    "            \"pearsonr\": float(peak_measures[\"count_pearson\"].item()),\n",
    "            \"mse\": float(peak_measures[\"count_mse\"].item())\n",
    "        },\n",
    "        \"profile_metrics\": {\n",
    "            \"negatives\": {\n",
    "                \"median_jsd\": float(np.nanmedian(negative_measures[\"profile_jsd\"])),\n",
    "                \"median_shuffled_jsd\": float(np.nanmedian(negative_shuffled_measures[\"profile_jsd\"]))\n",
    "            },\n",
    "            \"peaks\": {\n",
    "                \"median_jsd\": float(np.nanmedian(peak_measures[\"profile_jsd\"])),\n",
    "                \"median_shuffled_jsd\": float(np.nanmedian(peak_shuffled_measures[\"profile_jsd\"]))\n",
    "            }\n",
    "        }\n",
    "    }\n",
    "}"
   ]
  },
  {
   "cell_type": "code",
   "execution_count": 113,
   "metadata": {},
   "outputs": [],
   "source": [
    "import json\n",
    "with open(f\"{path_evaluation}/K562.bias.metrics.json\", \"w\") as f:\n",
    "    json.dump(metrics, f, indent=4)"
   ]
  },
  {
   "cell_type": "markdown",
   "metadata": {},
   "source": [
    "# Contribution scores from bias model using `bpnet-lite`"
   ]
  },
  {
   "cell_type": "code",
   "execution_count": 21,
   "metadata": {},
   "outputs": [],
   "source": [
    "path_subsample_peaks = \"/cellar/users/aklie/projects/ML4GLand/tutorials/bulk_atac_basepair/chrombpnet/bias_model/auxiliary/K562_30K_subsample_peaks.bed\"\n",
    "path_out = \"/cellar/users/aklie/projects/ML4GLand/tutorials/bulk_atac_basepair/bpnet-lite/bias_model/auxiliary/interpret_subsample\""
   ]
  },
  {
   "cell_type": "code",
   "execution_count": 22,
   "metadata": {},
   "outputs": [
    {
     "name": "stderr",
     "output_type": "stream",
     "text": [
      "Loading Loci: 100%|██████████| 30000/30000 [00:06<00:00, 4896.75it/s]\n"
     ]
    },
    {
     "data": {
      "text/plain": [
       "torch.Size([30000, 4, 2114])"
      ]
     },
     "execution_count": 22,
     "metadata": {},
     "output_type": "execute_result"
    }
   ],
   "source": [
    "X = extract_loci(\n",
    "    loci=path_subsample_peaks,\n",
    "    sequences=path_fa,\n",
    "    max_jitter=0,\n",
    "    ignore=list('QWERYUIOPSDFHJKLZXVBNM'),\n",
    "    verbose=True,\n",
    ")\n",
    "X.shape"
   ]
  },
  {
   "cell_type": "code",
   "execution_count": 23,
   "metadata": {},
   "outputs": [
    {
     "data": {
      "text/plain": [
       "torch.Size([29997, 4, 2114])"
      ]
     },
     "execution_count": 23,
     "metadata": {},
     "output_type": "execute_result"
    }
   ],
   "source": [
    "X = X[X.sum(dim=(1, 2)) == X.shape[-1]]\n",
    "X.shape"
   ]
  },
  {
   "cell_type": "code",
   "execution_count": 24,
   "metadata": {},
   "outputs": [],
   "source": [
    "np.savez_compressed(os.path.join(path_out, \"ohe\"), X)"
   ]
  },
  {
   "cell_type": "markdown",
   "metadata": {},
   "source": [
    "```bash\n",
    "profile_json=/cellar/users/aklie/projects/ML4GLand/tutorials/bulk_atac_basepair/bpnet-lite/bias_attribute_profile.json\n",
    "counts_json=/celljson=/cellar/users/aklie/projects/ML4GLand/tutorials/bulk_atac_basepair/bpnet-lite/bias_attribute_counts.json\n",
    "bpnet attribute -p $profile_json\n",
    "bpnet attribute -p $counts_json\n",
    "```"
   ]
  },
  {
   "cell_type": "markdown",
   "metadata": {},
   "source": [
    "# TF-modisco motifs"
   ]
  },
  {
   "cell_type": "code",
   "execution_count": 26,
   "metadata": {},
   "outputs": [],
   "source": [
    "def convert_html_to_pdf(\n",
    "\tinput_html,\n",
    "\toutput_pdf\n",
    "):\n",
    "\tcss = CSS(string='''\n",
    "\t\t@page {\n",
    "    \t\tsize: 1800mm 1300mm;\n",
    "    \t\tmargin: 0in 0in 0in 0in;\n",
    "\t\t}\n",
    "\t''')\n",
    "\tHTML(input_html).write_pdf(output_pdf, stylesheets=[css])"
   ]
  },
  {
   "cell_type": "markdown",
   "metadata": {},
   "source": [
    "## Counts contribution scores"
   ]
  },
  {
   "cell_type": "markdown",
   "metadata": {},
   "source": [
    "```bash\n",
    "ohe=/cellar/users/aklie/projects/ML4GLand/tutorials/bulk_atac_basepair/bpnet-lite/bias_model/auxiliary/interpret_subsample/ohe.npz\n",
    "attrs=/cellar/users/aklie/projects/ML4GLand/tutorials/bulk_atac_basepair/bpnet-lite/bias_model/auxiliary/interpret_subsample/K562.bias.counts.npz\n",
    "modisco_out=/cellar/users/aklie/projects/ML4GLand/tutorials/bulk_atac_basepair/bpnet-lite/bias_model/auxiliary/interpret_subsample/K562.bias.counts.modisco.h5\n",
    "cmd=\"modisco motifs \\\n",
    "-s $ohe \\\n",
    "-a $attrs \\\n",
    "-n 50000 \\\n",
    "-w 500 \\\n",
    "-o $modisco_out\"\n",
    "echo $cmd\n",
    "eval $cmd\n",
    "\n",
    "report_out=/cellar/users/aklie/projects/ML4GLand/tutorials/bulk_atac_basepair/bpnet-lite/bias_model/evaluation/modisco_counts\n",
    "motifs=/cellar/users/aklie/projects/ML4GLand/tutorials/data/motifs.meme.txt\n",
    "cmd=\"modisco report \\\n",
    "-i $modisco_out \\\n",
    "-o $report_out \\\n",
    "-s $report_out \\\n",
    "-m $motifs\"\n",
    "echo $cmd\n",
    "eval $cmd\n",
    "```"
   ]
  },
  {
   "cell_type": "markdown",
   "metadata": {},
   "source": [
    "```bash\n",
    "\n",
    "```"
   ]
  },
  {
   "cell_type": "code",
   "execution_count": 29,
   "metadata": {},
   "outputs": [],
   "source": [
    "convert_html_to_pdf(\n",
    "    input_html=\"/cellar/users/aklie/projects/ML4GLand/tutorials/bulk_atac_basepair/bpnet-lite/bias_model/evaluation/modisco_counts/motifs.html\",\n",
    "    output_pdf=\"/cellar/users/aklie/projects/ML4GLand/tutorials/bulk_atac_basepair/bpnet-lite/bias_model/evaluation/K562.bias.counts.pdf\"\n",
    ")"
   ]
  },
  {
   "cell_type": "markdown",
   "metadata": {},
   "source": [
    "## Profile contribution scores"
   ]
  },
  {
   "cell_type": "markdown",
   "metadata": {},
   "source": [
    "```bash\n",
    "ohe=/cellar/users/aklie/projects/ML4GLand/tutorials/bulk_atac_basepair/chrombpnet/bias_model/chrombpnet-lite_evaluation/ohe.npz\n",
    "attrs=/cellar/users/aklie/projects/ML4GLand/tutorials/bulk_atac_basepair/chrombpnet/bias_model/chrombpnet-lite_evaluation/K562.bias.profile.npz\n",
    "modisco_out=/cellar/users/aklie/projects/ML4GLand/tutorials/bulk_atac_basepair/chrombpnet/bias_model/chrombpnet-lite_evaluation/K562.bias.profile.modisco.h5\n",
    "cmd=\"modisco motifs \\\n",
    "-s $ohe \\\n",
    "-a $attrs \\\n",
    "-n 50000 \\\n",
    "-w 500 \\\n",
    "-o $modisco_out\"\n",
    "echo $cmd\n",
    "eval $cmd\n",
    "\n",
    "report_out=/cellar/users/aklie/projects/ML4GLand/tutorials/bulk_atac_basepair/chrombpnet/bias_model/chrombpnet-lite_evaluation/modisco_profile\n",
    "motifs=/cellar/users/aklie/projects/ML4GLand/tutorials/data/motifs.meme.txt\n",
    "cmd=\"modisco report \\\n",
    "-i $modisco_out \\\n",
    "-o $report_out \\\n",
    "-s $report_out \\\n",
    "-m $motifs\"\n",
    "echo $cmd\n",
    "eval $cmd\n",
    "```\n",
    "```"
   ]
  },
  {
   "cell_type": "code",
   "execution_count": 30,
   "metadata": {},
   "outputs": [],
   "source": [
    "convert_html_to_pdf(\n",
    "    input_html=\"/cellar/users/aklie/projects/ML4GLand/tutorials/bulk_atac_basepair/chrombpnet/bias_model/chrombpnet-lite_evaluation/modisco_profile/motifs.html\",\n",
    "    output_pdf=\"/cellar/users/aklie/projects/ML4GLand/tutorials/bulk_atac_basepair/chrombpnet/bias_model/chrombpnet-lite_evaluation/K562.bias.profile.pdf\"\n",
    ")"
   ]
  },
  {
   "cell_type": "markdown",
   "metadata": {},
   "source": [
    "# DONE!"
   ]
  },
  {
   "cell_type": "markdown",
   "metadata": {},
   "source": [
    "---"
   ]
  },
  {
   "cell_type": "markdown",
   "metadata": {},
   "source": [
    "# Training + validation performance"
   ]
  },
  {
   "cell_type": "code",
   "execution_count": 86,
   "metadata": {},
   "outputs": [
    {
     "name": "stdout",
     "output_type": "stream",
     "text": [
      "Number of loci: 185699\n"
     ]
    },
    {
     "data": {
      "text/plain": [
       "{'profile_mnll': tensor([[ 742.0286],\n",
       "         [2599.6279],\n",
       "         [1686.3369],\n",
       "         ...,\n",
       "         [ 431.1780],\n",
       "         [ 558.5352],\n",
       "         [ 563.1091]]),\n",
       " 'profile_pearson': tensor([[0.7833],\n",
       "         [0.6379],\n",
       "         [0.7464],\n",
       "         ...,\n",
       "         [0.4443],\n",
       "         [0.2507],\n",
       "         [0.6213]]),\n",
       " 'count_pearson': tensor([-0.4452]),\n",
       " 'count_mse': tensor([11.2730])}"
      ]
     },
     "execution_count": 86,
     "metadata": {},
     "output_type": "execute_result"
    }
   ],
   "source": [
    "# Calculate performance measures on training peaks\n",
    "training_peaks_performance = calculate_performance_measures_on_loci(\n",
    "    model=bias_model,\n",
    "    loci=path_peaks,\n",
    "    signals=[path_signal],\n",
    "    sequences=path_fa,\n",
    "    recalculate_interval=True,\n",
    "    seq_len=2114,\n",
    "    chroms=splits[\"train\"],\n",
    "    kernel_sigma=7,\n",
    "    kernel_width=81,\n",
    "    measures=['profile_mnll', 'profile_pearson', 'count_mse', 'count_pearson'],\n",
    ")\n",
    "training_peaks_performance"
   ]
  },
  {
   "cell_type": "code",
   "execution_count": 87,
   "metadata": {},
   "outputs": [
    {
     "name": "stdout",
     "output_type": "stream",
     "text": [
      "Number of loci: 17617\n"
     ]
    },
    {
     "data": {
      "text/plain": [
       "{'profile_mnll': tensor([[ 396.8701],\n",
       "         [ 520.2432],\n",
       "         [ 440.9164],\n",
       "         ...,\n",
       "         [1600.7969],\n",
       "         [1698.9365],\n",
       "         [ 452.9985]]),\n",
       " 'profile_pearson': tensor([[0.7157],\n",
       "         [0.6935],\n",
       "         [0.6303],\n",
       "         ...,\n",
       "         [0.8214],\n",
       "         [0.7681],\n",
       "         [0.6580]]),\n",
       " 'count_pearson': tensor([-0.4565]),\n",
       " 'count_mse': tensor([10.7086])}"
      ]
     },
     "execution_count": 87,
     "metadata": {},
     "output_type": "execute_result"
    }
   ],
   "source": [
    "# Calculate performance measures on validation peaks\n",
    "validation_peaks_performance = calculate_performance_measures_on_loci(\n",
    "    model=bias_model,\n",
    "    loci=path_peaks,\n",
    "    signals=[path_signal],\n",
    "    sequences=path_fa,\n",
    "    recalculate_interval=True,\n",
    "    seq_len=2114,\n",
    "    chroms=splits[\"valid\"],\n",
    "    kernel_sigma=7,\n",
    "    kernel_width=81,\n",
    "    measures=['profile_mnll', 'profile_pearson', 'count_mse', 'count_pearson'],\n",
    ")\n",
    "validation_peaks_performance"
   ]
  },
  {
   "cell_type": "code",
   "execution_count": 89,
   "metadata": {},
   "outputs": [
    {
     "name": "stdout",
     "output_type": "stream",
     "text": [
      "Number of loci: 207500\n"
     ]
    },
    {
     "data": {
      "text/plain": [
       "{'profile_mnll': tensor([[ 11.0688],\n",
       "         [  0.0000],\n",
       "         [ 96.8514],\n",
       "         ...,\n",
       "         [ 14.5086],\n",
       "         [ 57.7039],\n",
       "         [176.7577]]),\n",
       " 'profile_pearson': tensor([[0.0504],\n",
       "         [0.0000],\n",
       "         [0.2656],\n",
       "         ...,\n",
       "         [0.1218],\n",
       "         [0.1995],\n",
       "         [0.4137]]),\n",
       " 'count_pearson': tensor([0.6834]),\n",
       " 'count_mse': tensor([0.7300])}"
      ]
     },
     "execution_count": 89,
     "metadata": {},
     "output_type": "execute_result"
    }
   ],
   "source": [
    "# Calculate performance measures on training negatives\n",
    "training_negatives_performance = calculate_performance_measures_on_loci(\n",
    "    model=bias_model,\n",
    "    loci=path_negatives,\n",
    "    signals=[path_signal],\n",
    "    sequences=path_fa,\n",
    "    recalculate_interval=False,\n",
    "    chroms=splits[\"train\"],\n",
    "    kernel_sigma=7,\n",
    "    kernel_width=81,\n",
    "    measures=['profile_mnll', 'profile_pearson', 'count_mse', 'count_pearson'],\n",
    ")\n",
    "training_negatives_performance"
   ]
  },
  {
   "cell_type": "code",
   "execution_count": 90,
   "metadata": {},
   "outputs": [
    {
     "name": "stdout",
     "output_type": "stream",
     "text": [
      "Number of loci: 21457\n"
     ]
    },
    {
     "data": {
      "text/plain": [
       "{'profile_mnll': tensor([[279.0711],\n",
       "         [154.9761],\n",
       "         [184.4812],\n",
       "         ...,\n",
       "         [191.0447],\n",
       "         [174.3915],\n",
       "         [124.0468]]),\n",
       " 'profile_pearson': tensor([[0.3084],\n",
       "         [0.2421],\n",
       "         [0.5891],\n",
       "         ...,\n",
       "         [0.3869],\n",
       "         [0.5081],\n",
       "         [0.4204]]),\n",
       " 'count_pearson': tensor([0.7413]),\n",
       " 'count_mse': tensor([0.4597])}"
      ]
     },
     "execution_count": 90,
     "metadata": {},
     "output_type": "execute_result"
    }
   ],
   "source": [
    "# Calculate performance measures on validation negatives\n",
    "validation_negatives_performance = calculate_performance_measures_on_loci(\n",
    "    model=bias_model,\n",
    "    loci=path_negatives,\n",
    "    signals=[path_signal],\n",
    "    sequences=path_fa,\n",
    "    recalculate_interval=False,\n",
    "    chroms=splits[\"valid\"],\n",
    "    kernel_sigma=7,\n",
    "    kernel_width=81,\n",
    "    measures=['profile_mnll', 'profile_pearson', 'count_mse', 'count_pearson'],\n",
    ")\n",
    "validation_negatives_performance"
   ]
  },
  {
   "cell_type": "markdown",
   "metadata": {},
   "source": [
    "## Counts contribution scores"
   ]
  },
  {
   "cell_type": "code",
   "execution_count": null,
   "metadata": {},
   "outputs": [
    {
     "data": {
      "text/plain": [
       "CountWrapper(\n",
       "  (model): ControlWrapper(\n",
       "    (model): BPNet(\n",
       "      (iconv): Conv1d(4, 128, kernel_size=(21,), stride=(1,), padding=(10,))\n",
       "      (irelu): ReLU()\n",
       "      (rconvs): ModuleList(\n",
       "        (0): Conv1d(128, 128, kernel_size=(3,), stride=(1,), padding=(2,), dilation=(2,))\n",
       "        (1): Conv1d(128, 128, kernel_size=(3,), stride=(1,), padding=(4,), dilation=(4,))\n",
       "        (2): Conv1d(128, 128, kernel_size=(3,), stride=(1,), padding=(8,), dilation=(8,))\n",
       "        (3): Conv1d(128, 128, kernel_size=(3,), stride=(1,), padding=(16,), dilation=(16,))\n",
       "      )\n",
       "      (rrelus): ModuleList(\n",
       "        (0-3): 4 x ReLU()\n",
       "      )\n",
       "      (fconv): Conv1d(128, 1, kernel_size=(75,), stride=(1,), padding=(37,))\n",
       "      (linear): Linear(in_features=128, out_features=1, bias=True)\n",
       "    )\n",
       "  )\n",
       ")"
      ]
     },
     "metadata": {},
     "output_type": "display_data"
    }
   ],
   "source": [
    "wrapper = CountWrapper(ControlWrapper(bias_model)).cuda().eval()\n",
    "wrapper"
   ]
  },
  {
   "cell_type": "code",
   "execution_count": null,
   "metadata": {},
   "outputs": [
    {
     "name": "stderr",
     "output_type": "stream",
     "text": [
      "100%|██████████| 599940/599940 [13:57<00:00, 716.21it/s]\n"
     ]
    }
   ],
   "source": [
    "X_attr = deep_lift_shap(\n",
    "    wrapper.type(torch.float32), \n",
    "    X.type(torch.float32),\n",
    "    hypothetical=True,\n",
    "    n_shuffles=20,\n",
    "    batch_size=128,\n",
    "    random_state=1234,\n",
    "    verbose=True,\n",
    "    warning_threshold=0.001\n",
    ")"
   ]
  },
  {
   "cell_type": "code",
   "execution_count": null,
   "metadata": {},
   "outputs": [],
   "source": [
    "np.savez_compressed(os.path.join(path_out, \"K562.bias.counts\"), X_attr)"
   ]
  },
  {
   "cell_type": "markdown",
   "metadata": {},
   "source": [
    "## Profile contribution scores"
   ]
  },
  {
   "cell_type": "code",
   "execution_count": null,
   "metadata": {},
   "outputs": [],
   "source": [
    "wrapper_profile = ProfileWrapper(ControlWrapper(bias_model)).cuda().eval()"
   ]
  },
  {
   "cell_type": "code",
   "execution_count": null,
   "metadata": {},
   "outputs": [],
   "source": [
    "from bpnetlite.bpnet import _ProfileLogitScaling\n",
    "from tangermeme.deep_lift_shap import _nonlinear"
   ]
  },
  {
   "cell_type": "code",
   "execution_count": null,
   "metadata": {},
   "outputs": [
    {
     "name": "stderr",
     "output_type": "stream",
     "text": [
      "  1%|▏         | 8576/599840 [01:54<2:12:55, 74.13it/s]"
     ]
    }
   ],
   "source": [
    "X_attr = deep_lift_shap(\n",
    "    wrapper.type(torch.float64), \n",
    "    X.type(torch.float64),\n",
    "    hypothetical=True,\n",
    "    n_shuffles=20,\n",
    "    batch_size=32,\n",
    "    random_state=1234,\n",
    "    verbose=True,\n",
    "    warning_threshold=0.001,\n",
    "    additional_nonlinear_ops={_ProfileLogitScaling: _nonlinear},\n",
    ")"
   ]
  },
  {
   "cell_type": "code",
   "execution_count": null,
   "metadata": {},
   "outputs": [
    {
     "data": {
      "text/plain": [
       "torch.Size([29992, 4, 2114])"
      ]
     },
     "metadata": {},
     "output_type": "display_data"
    }
   ],
   "source": [
    "X_attr.shape"
   ]
  },
  {
   "cell_type": "code",
   "execution_count": null,
   "metadata": {},
   "outputs": [],
   "source": [
    "np.savez_compressed(os.path.join(path_out, \"K562.bias.profile\"), X_attr)"
   ]
  }
 ],
 "metadata": {
  "kernelspec": {
   "display_name": "Python 3.11 eugene_tools",
   "language": "python",
   "name": "eugene_tools"
  },
  "language_info": {
   "codemirror_mode": {
    "name": "ipython",
    "version": 3
   },
   "file_extension": ".py",
   "mimetype": "text/x-python",
   "name": "python",
   "nbconvert_exporter": "python",
   "pygments_lexer": "ipython3",
   "version": "3.11.10"
  }
 },
 "nbformat": 4,
 "nbformat_minor": 2
}
