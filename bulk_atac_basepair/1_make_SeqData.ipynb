{
 "cells": [
  {
   "cell_type": "markdown",
   "metadata": {},
   "source": [
    "# Download and organize ENCODE data"
   ]
  },
  {
   "cell_type": "markdown",
   "metadata": {},
   "source": [
    "```bash\n",
    "# Path data (TODO: change to the path you want to store the data in)\n",
    "path_data=/cellar/users/aklie/data/datasets/K562_ATAC-seq/data\n",
    "\n",
    "# Download reference genome from ENCODE\n",
    "wget https://www.encodeproject.org/files/GRCh38_no_alt_analysis_set_GCA_000001405.15/@@download/GRCh38_no_alt_analysis_set_GCA_000001405.15.fasta.gz -O $path_data/hg38.fa.gz\n",
    "gunzip $path_data/hg38.fa.gz\n",
    "\n",
    "# Download reference chromosome sizes from ENCODE\n",
    "wget https://www.encodeproject.org/files/GRCh38_EBV.chrom.sizes/@@download/GRCh38_EBV.chrom.sizes.tsv -O $path_data/hg38.chrom.sizes\n",
    "\n",
    "# Download reference blacklist regions from ENCODE\n",
    "wget https://www.encodeproject.org/files/ENCFF356LFX/@@download/ENCFF356LFX.bed.gz -O $path_data/blacklist.bed.gz\n",
    "gunzip $path_data/blacklist.bed.gz\n",
    "\n",
    "# download K562 ENCODE ATAC-seq peaks from ENCODE\n",
    "wget https://www.encodeproject.org/files/ENCFF333TAT/@@download/ENCFF333TAT.bed.gz -O $path_data/ENCSR868FGK_K562_ATAC-seq_peaks.bed.gz\n",
    "gunzip $path_data/ENCSR868FGK_K562_ATAC-seq_peaks.bed.gz\n",
    "\n",
    "# download K562 ENCODE ATAC-seq bam for reps 1, 2, 3 from ENCODE\n",
    "wget https://www.encodeproject.org/files/ENCFF077FBI/@@download/ENCFF077FBI.bam -O $path_data/ENCSR868FGK_K562_ATAC-seq_rep1.bam\n",
    "wget https://www.encodeproject.org/files/ENCFF128WZG/@@download/ENCFF128WZG.bam -O $path_data/ENCSR868FGK_K562_ATAC-seq_rep2.bam\n",
    "wget https://www.encodeproject.org/files/ENCFF534DCE/@@download/ENCFF534DCE.bam -O $path_data/ENCSR868FGK_K562_ATAC-seq_rep3.bam\n",
    "```"
   ]
  },
  {
   "cell_type": "markdown",
   "metadata": {},
   "source": [
    "# Create BigWig files w/ `chrombpnet`"
   ]
  },
  {
   "cell_type": "markdown",
   "metadata": {},
   "source": [
    "```bash\n",
    "# Path data (TODO: change to the path set above)\n",
    "path_data=/cellar/users/aklie/data/datasets/K562_ATAC-seq/data\n",
    "\n",
    "# Merge and sort bam files\n",
    "samtools merge -f $path_data/merged_unsorted.bam $path_data/ENCSR868FGK_K562_ATAC-seq_rep1.bam $path_data/ENCSR868FGK_K562_ATAC-seq_rep2.bam $path_data/ENCSR868FGK_K562_ATAC-seq_rep3.bam\n",
    "samtools sort -@4 $path_data/merged_unsorted.bam -o $path_data/merged.bam\n",
    "samtools index $path_data/merged.bam\n",
    "\n",
    "# use chrombpnet to get unstranded counts bigwig with correct shift (+4/-4)\n",
    "script=/cellar/users/aklie/opt/chrombpnet/chrombpnet/helpers/preprocessing/reads_to_bigwig.py\n",
    "cmd=\"python $script \\\n",
    "--genome $path_data/hg38.fa \\\n",
    "--input-bam-file $path_data/merged.bam \\\n",
    "--chrom-sizes $path_data/hg38.chrom.sizes \\\n",
    "--output-prefix $path_data/K562_ATAC-seq_merged \\\n",
    "--data-type ATAC\"\n",
    "echo $cmd\n",
    "eval $cmd\n",
    "\n",
    "# clean up intermediate files and rename K562_ATAC-seq_merged_unstranded.bw to K562_ATAC-seq_unstranded_counts.bw\n",
    "mv $path_data/K562_ATAC-seq_merged_unstranded.bw $path_data/K562_ATAC-seq_unstranded_counts.bw \n",
    "rm $path_data/merged_unsorted.bam $path_data/merged.bam\n",
    "```"
   ]
  },
  {
   "cell_type": "markdown",
   "metadata": {},
   "source": [
    "# Get GC matched negatives with `tangermeme`"
   ]
  },
  {
   "cell_type": "markdown",
   "metadata": {},
   "source": [
    "```bash\n",
    "# Path data (TODO: change to the path set above)\n",
    "path_data=/cellar/users/aklie/data/datasets/K562_ATAC-seq/data\n",
    "\n",
    "# Get GC matched negatives\n",
    "cmd=\"bpnet negatives \\\n",
    "-i $path_data/ENCSR868FGK_K562_ATAC-seq_peaks.bed \\\n",
    "-f $path_data/hg38.fa \\\n",
    "-b $path_data/blacklist.bed \\\n",
    "-o $path_data/K562_ATAC-seq_negatives.bed\"\n",
    "-l 0.02 \\\n",
    "-w 2114 \\\n",
    "-v\n",
    "echo $cmd\n",
    "eval $cmd\n",
    "\n",
    "# Make version of negatives with distance to center for chrombpnet\n",
    "awk '{mid = int(($2 + $3) / 2); distance = mid - $2; print $0, \".\", \".\", \".\", \".\", \".\", \".\", distance}' $path_data/K562_ATAC-seq_negatives.bed > $path_data/K562_ATAC-seq_negatives.chrombpnet.bed\n",
    "```"
   ]
  },
  {
   "cell_type": "markdown",
   "metadata": {},
   "source": [
    "# Make SeqDatas w/ `seqdata`"
   ]
  },
  {
   "cell_type": "code",
   "execution_count": null,
   "metadata": {},
   "outputs": [],
   "source": [
    "# Imports\n",
    "import os\n",
    "import numpy as np\n",
    "import seqdata as sd\n",
    "import xarray as xr"
   ]
  },
  {
   "cell_type": "code",
   "execution_count": 2,
   "metadata": {},
   "outputs": [],
   "source": [
    "# TODO: change to your path\n",
    "data_dir = \"/cellar/users/aklie/data/datasets/K562_ATAC-seq/data\""
   ]
  },
  {
   "cell_type": "code",
   "execution_count": null,
   "metadata": {},
   "outputs": [],
   "source": [
    "# Set-up all file paths\n",
    "peaks = os.path.join(data_dir, \"ENCSR868FGK_K562_ATAC-seq_peaks.bed\")\n",
    "negatives = os.path.join(data_dir, \"K562_ATAC-seq_negatives.bed\")\n",
    "signal = os.path.join(data_dir, \"K562_ATAC-seq_unstranded_counts.bw\")\n",
    "fasta = os.path.join(data_dir, \"hg38.fa\")\n",
    "peaks, negatives, signal"
   ]
  },
  {
   "cell_type": "code",
   "execution_count": null,
   "metadata": {},
   "outputs": [],
   "source": [
    "# Make output directory if doesn't exist\n",
    "peaks_out = os.path.join(data_dir, \"K562_ATAC-seq_peaks.zarr\")\n",
    "negatives_out = os.path.join(data_dir, \"K562_ATAC-seq_negatives.zarr\")\n",
    "out = os.path.join(data_dir, \"K562_ATAC-seq.zarr\")\n",
    "peaks_out, negatives_out"
   ]
  },
  {
   "cell_type": "code",
   "execution_count": null,
   "metadata": {},
   "outputs": [],
   "source": [
    "# Build SeqData peaks\n",
    "sdata_peaks = sd.from_region_files(\n",
    "    sd.GenomeFASTA('seq',\n",
    "        fasta,\n",
    "        batch_size=10000,\n",
    "        n_threads=4,\n",
    "    ),\n",
    "    sd.BigWig(\n",
    "        'cov',\n",
    "        [signal],\n",
    "        [\"K562_ATAC-seq\"],\n",
    "        batch_size=10000,\n",
    "        n_jobs=4,\n",
    "        threads_per_job=2,\n",
    "    ),\n",
    "    path=peaks_out,\n",
    "    fixed_length=2114,\n",
    "    bed=peaks,\n",
    "    overwrite=True,\n",
    "    max_jitter=128\n",
    ")\n",
    "sdata_peaks[\"type\"] = \"peak\"\n",
    "sdata_peaks.load()"
   ]
  },
  {
   "cell_type": "code",
   "execution_count": null,
   "metadata": {},
   "outputs": [],
   "source": [
    "# Build SeqData from negatives\n",
    "sdata_neg = sd.from_region_files(\n",
    "    sd.GenomeFASTA('seq',\n",
    "        fasta,\n",
    "        batch_size=10000,\n",
    "        n_threads=4,\n",
    "    ),\n",
    "    sd.BigWig(\n",
    "        'cov',\n",
    "        [signal],\n",
    "        [\"K562_ATAC-seq\"],\n",
    "        batch_size=10000,\n",
    "        n_jobs=4,\n",
    "        threads_per_job=2,\n",
    "    ),\n",
    "    path=negatives_out,\n",
    "    fixed_length=2114,\n",
    "    bed=negatives,\n",
    "    overwrite=True,\n",
    "    max_jitter=128\n",
    ")\n",
    "sdata_neg[\"type\"] = \"negative\"\n",
    "sdata_neg.load()"
   ]
  },
  {
   "cell_type": "code",
   "execution_count": null,
   "metadata": {},
   "outputs": [],
   "source": [
    "# Concatenate the two datasets\n",
    "sdata = xr.concat([sdata_peaks, sdata_neg], dim=\"_sequence\")\n",
    "# https://github.com/pydata/xarray/issues/3476#issuecomment-1115045538\n",
    "for v in list(sdata.coords.keys()):\n",
    "    if sdata.coords[v].dtype == object:\n",
    "        sdata.coords[v] = sdata.coords[v].astype(\"unicode\")\n",
    "for v in list(sdata.variables.keys()):\n",
    "    if sdata[v].dtype == object:\n",
    "        sdata[v] = sdata[v].astype(\"unicode\")\n",
    "sdata.to_zarr(out, mode='w')\n",
    "sdata"
   ]
  },
  {
   "cell_type": "markdown",
   "metadata": {},
   "source": [
    "# Check against `pyBigWig`"
   ]
  },
  {
   "cell_type": "code",
   "execution_count": 17,
   "metadata": {},
   "outputs": [],
   "source": [
    "import pyBigWig\n",
    "import matplotlib.pyplot as plt\n",
    "import seaborn as sns\n",
    "\n",
    "def plot_tracks(tracks, interval, height=1.5, colors=None):\n",
    "  _, axes = plt.subplots(len(tracks), 1, figsize=(20, height * len(tracks)), sharex=True)\n",
    "  if not isinstance(axes, np.ndarray):\n",
    "    axes = [axes]\n",
    "  for ax, (title, y) in zip(axes, tracks.items()):\n",
    "    if colors is not None:\n",
    "      ax.fill_between(np.linspace(interval[\"start\"], interval[\"end\"], num=len(y)), y, color=colors[title])\n",
    "    else:\n",
    "      ax.fill_between(np.linspace(interval[\"start\"], interval[\"end\"], num=len(y)), y)\n",
    "    ax.set_title(title)\n",
    "    sns.despine(top=True, right=True, bottom=True)\n",
    "  ax.set_xlabel(f\"{interval['chrom']}:{interval['start']}-{interval['end']}\")\n",
    "  plt.tight_layout()"
   ]
  },
  {
   "cell_type": "code",
   "execution_count": 18,
   "metadata": {},
   "outputs": [],
   "source": [
    "# The actual BigWig file\n",
    "file = pyBigWig.open(str(signal))"
   ]
  },
  {
   "cell_type": "code",
   "execution_count": 26,
   "metadata": {},
   "outputs": [
    {
     "data": {
      "image/png": "[encoded data removed]",
      "text/plain": [
       "<Figure size 2000x300 with 2 Axes>"
      ]
     },
     "metadata": {},
     "output_type": "display_data"
    },
    {
     "ename": "",
     "evalue": "",
     "output_type": "error",
     "traceback": [
      "\u001b[1;31mThe Kernel crashed while executing code in the current cell or a previous cell. \n",
      "\u001b[1;31mPlease review the code in the cell(s) to identify a possible cause of the failure. \n",
      "\u001b[1;31mClick <a href='https://aka.ms/vscodeJupyterKernelCrash'>here</a> for more info. \n",
      "\u001b[1;31mView Jupyter <a href='command:jupyter.viewOutput'>log</a> for further details."
     ]
    }
   ],
   "source": [
    "# Get data\n",
    "seq_num = 0\n",
    "ser = sdata[[\"name\", \"chrom\", \"chromStart\", \"chromEnd\"]].to_dataframe().loc[seq_num]\n",
    "sdata_vals = sdata[\"cov\"][seq_num].values.squeeze()\n",
    "pybw_vals = np.nan_to_num(np.array(file.values(ser[\"chrom\"], ser[\"chromStart\"], ser[\"chromEnd\"])))\n",
    "chrom = ser[\"chrom\"]\n",
    "chromStart = ser[\"chromStart\"]\n",
    "chromEnd = ser[\"chromEnd\"]\n",
    "interval = dict(chrom=chrom, start=chromStart, end=chromEnd)\n",
    "tracks = {\n",
    "    \"SeqData\": sdata_vals,\n",
    "    \"pyBigWig\": pybw_vals\n",
    "}\n",
    "colors = {\n",
    "    \"SeqData\": \"lightblue\",\n",
    "    \"pyBigWig\": \"lightcoral\"\n",
    "}\n",
    "\n",
    "# Plot tracks\n",
    "plot_tracks(\n",
    "    tracks=tracks,\n",
    "    interval=interval,\n",
    "    colors=colors\n",
    ")"
   ]
  },
  {
   "cell_type": "markdown",
   "metadata": {},
   "source": [
    "# DONE!"
   ]
  },
  {
   "cell_type": "markdown",
   "metadata": {},
   "source": [
    "---"
   ]
  },
  {
   "cell_type": "markdown",
   "metadata": {},
   "source": [
    "# Make SeqDataset"
   ]
  },
  {
   "cell_type": "code",
   "execution_count": 23,
   "metadata": {},
   "outputs": [
    {
     "data": {
      "text/plain": [
       "PosixPath('/cellar/users/aklie/.cache/seqdata/signal.bw')"
      ]
     },
     "execution_count": 23,
     "metadata": {},
     "output_type": "execute_result"
    }
   ],
   "source": [
    "path_bw = sd.datasets.K562_ATAC_seq(type=\"bigwig\")\n",
    "path_bw"
   ]
  },
  {
   "cell_type": "code",
   "execution_count": 24,
   "metadata": {},
   "outputs": [
    {
     "name": "stderr",
     "output_type": "stream",
     "text": [
      "Downloading file 'K562_ATAC-seq.zarr.tar.gz' from 'https://zenodo.org/records/11415225/files/K562_ATAC-seq.zarr.tar.gz' to '/cellar/users/aklie/.cache/seqdata'.\n"
     ]
    }
   ],
   "source": [
    "path_seqdata = sd.datasets.K562_ATAC_seq(type=\"seqdata\")\n",
    "path_seqdata"
   ]
  },
  {
   "cell_type": "code",
   "execution_count": null,
   "metadata": {},
   "outputs": [],
   "source": []
  }
 ],
 "metadata": {
  "kernelspec": {
   "display_name": "Python 3.9 ml4gland",
   "language": "python",
   "name": "ml4gland"
  }
 },
 "nbformat": 4,
 "nbformat_minor": 2
}
